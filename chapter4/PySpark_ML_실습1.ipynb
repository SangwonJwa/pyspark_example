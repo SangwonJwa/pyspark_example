{
  "cells": [
    {
      "cell_type": "markdown",
      "metadata": {
        "id": "xAqhTDfuWrcM"
      },
      "source": [
        "PySpark을 로컬머신에 설치하고 노트북을 사용하기 보다는 머신러닝 관련 다양한 라이브러리가 이미 설치되었고 좋은 하드웨어를 제공해주는 Google Colab을 통해 실습을 진행한다."
      ]
    },
    {
      "cell_type": "markdown",
      "metadata": {
        "id": "XIA23YgbXKJd"
      },
      "source": [
        "이를 위해 pyspark과 Py4J 패키지를 설치한다. Py4J 패키지는 파이썬 프로그램이 자바가상머신상의 오브젝트들을 접근할 수 있게 해준다. Local Standalone Spark을 사용한다."
      ]
    },
    {
      "cell_type": "code",
      "execution_count": 1,
      "metadata": {
        "colab": {
          "base_uri": "https://localhost:8080/"
        },
        "id": "NbT0rpGfVdiq",
        "outputId": "b2a8d480-7ae1-4a9d-c1e4-250a8660ee1f"
      },
      "outputs": [
        {
          "name": "stdout",
          "output_type": "stream",
          "text": [
            "Defaulting to user installation because normal site-packages is not writeable\n",
            "Requirement already satisfied: pyspark==3.5.1 in /home/sangwon/.local/lib/python3.10/site-packages (3.5.1)\n",
            "Requirement already satisfied: py4j==0.10.9.7 in /home/sangwon/.local/lib/python3.10/site-packages (0.10.9.7)\n"
          ]
        }
      ],
      "source": [
        "!pip install pyspark==3.5.1 py4j==0.10.9.7"
      ]
    },
    {
      "cell_type": "code",
      "execution_count": 2,
      "metadata": {
        "id": "3vm6tgcPXdnR"
      },
      "outputs": [
        {
          "name": "stderr",
          "output_type": "stream",
          "text": [
            "your 131072x1 screen size is bogus. expect trouble\n",
            "24/06/26 14:27:42 WARN Utils: Your hostname, LAPTOP-8CK94L0D resolves to a loopback address: 127.0.1.1; using 172.21.9.191 instead (on interface eth0)\n",
            "24/06/26 14:27:42 WARN Utils: Set SPARK_LOCAL_IP if you need to bind to another address\n",
            "Setting default log level to \"WARN\".\n",
            "To adjust logging level use sc.setLogLevel(newLevel). For SparkR, use setLogLevel(newLevel).\n",
            "24/06/26 14:27:44 WARN NativeCodeLoader: Unable to load native-hadoop library for your platform... using builtin-java classes where applicable\n"
          ]
        }
      ],
      "source": [
        "from pyspark.sql import SparkSession\n",
        "\n",
        "spark = SparkSession \\\n",
        "    .builder \\\n",
        "    .appName(\"Boston Housing Linear Regression example\") \\\n",
        "    .getOrCreate()"
      ]
    },
    {
      "cell_type": "markdown",
      "metadata": {
        "id": "pyl0gES0KhkF"
      },
      "source": [
        "# 보스턴 주택 가격 예측 모델 만들기\n",
        "\n",
        "\n"
      ]
    },
    {
      "cell_type": "code",
      "execution_count": 3,
      "metadata": {
        "colab": {
          "base_uri": "https://localhost:8080/",
          "height": 219
        },
        "id": "LSs_1PYaYWxI",
        "outputId": "ef25757f-5976-47e1-a0f4-0149abb5f011"
      },
      "outputs": [
        {
          "data": {
            "text/html": [
              "\n",
              "            <div>\n",
              "                <p><b>SparkSession - in-memory</b></p>\n",
              "                \n",
              "        <div>\n",
              "            <p><b>SparkContext</b></p>\n",
              "\n",
              "            <p><a href=\"http://172.21.9.191:4040\">Spark UI</a></p>\n",
              "\n",
              "            <dl>\n",
              "              <dt>Version</dt>\n",
              "                <dd><code>v3.5.1</code></dd>\n",
              "              <dt>Master</dt>\n",
              "                <dd><code>local[*]</code></dd>\n",
              "              <dt>AppName</dt>\n",
              "                <dd><code>Boston Housing Linear Regression example</code></dd>\n",
              "            </dl>\n",
              "        </div>\n",
              "        \n",
              "            </div>\n",
              "        "
            ],
            "text/plain": [
              "<pyspark.sql.session.SparkSession at 0x7f5d40283580>"
            ]
          },
          "execution_count": 3,
          "metadata": {},
          "output_type": "execute_result"
        }
      ],
      "source": [
        "spark"
      ]
    },
    {
      "cell_type": "code",
      "execution_count": 4,
      "metadata": {
        "colab": {
          "base_uri": "https://localhost:8080/"
        },
        "id": "vE8iL4vy6705",
        "outputId": "7b70e509-e4ed-4b64-86f4-a5e06862e03d"
      },
      "outputs": [
        {
          "name": "stdout",
          "output_type": "stream",
          "text": [
            "--2024-06-26 13:02:48--  https://s3-geospatial.s3-us-west-2.amazonaws.com/boston_housing.csv\n",
            "Resolving s3-geospatial.s3-us-west-2.amazonaws.com (s3-geospatial.s3-us-west-2.amazonaws.com)... 3.5.80.208, 3.5.86.174, 3.5.76.13, ...\n",
            "Connecting to s3-geospatial.s3-us-west-2.amazonaws.com (s3-geospatial.s3-us-west-2.amazonaws.com)|3.5.80.208|:443... connected.\n",
            "HTTP request sent, awaiting response... 200 OK\n",
            "Length: 36240 (35K) [text/csv]\n",
            "Saving to: ‘boston_housing.csv’\n",
            "\n",
            "boston_housing.csv  100%[===================>]  35.39K   225KB/s    in 0.2s    \n",
            "\n",
            "2024-06-26 13:02:49 (225 KB/s) - ‘boston_housing.csv’ saved [36240/36240]\n",
            "\n"
          ]
        }
      ],
      "source": [
        "!wget https://s3-geospatial.s3-us-west-2.amazonaws.com/boston_housing.csv"
      ]
    },
    {
      "cell_type": "code",
      "execution_count": 5,
      "metadata": {
        "colab": {
          "base_uri": "https://localhost:8080/"
        },
        "id": "GfSzc03fOC6e",
        "outputId": "2b99b5ca-4d69-4036-b0f5-a4d7bbc11b8d"
      },
      "outputs": [
        {
          "name": "stdout",
          "output_type": "stream",
          "text": [
            "total 688\n",
            "-rw-r--r-- 1 sangwon sangwon  31965 Jun 26 12:15 PySpark_ML_실습1.ipynb\n",
            "-rw-r--r-- 1 sangwon sangwon 195247 Jun 26 12:14 PySpark_Write_실습.ipynb\n",
            "-rw-r--r-- 1 sangwon sangwon   1716 Jun 25 17:30 bucketDemo.py\n",
            "-rw-r--r-- 1 sangwon sangwon  21777 Jun 25 17:24 PySpark_FileSystem_Partitioning.ipynb\n",
            "drwxr-xr-x 3 sangwon sangwon   4096 Jun 25 17:22 spark-warehouse\n",
            "drwxr-xr-x 5 sangwon sangwon   4096 Jun 25 17:22 metastore_db\n",
            "-rw-r--r-- 1 sangwon sangwon    814 Jun 25 17:22 derby.log\n",
            "-rw-r--r-- 1 sangwon sangwon  22795 Jun 25 16:41 PySpark_Schema_Evolution.ipynb\n",
            "drwxr-xr-x 5 sangwon sangwon   4096 Jun 25 16:36 dataOutput\n",
            "drwxr-xr-x 2 sangwon sangwon   4096 Jun 20 01:17 wordcount\n",
            "drwxr-xr-x 4 sangwon sangwon   4096 Jun 20 01:17 join_broadcast_join\n",
            "-rw-r--r-- 1 sangwon sangwon  29648 Jun 20 01:17 PySpark_ML_실습2.ipynb\n",
            "-rw-r--r-- 1 sangwon sangwon  71580 Jan 26  2023 schema3.parquet\n",
            "-rw-r--r-- 1 sangwon sangwon  49915 Jan 26  2023 schema1.parquet\n",
            "-rw-r--r-- 1 sangwon sangwon  57205 Jan 26  2023 schema2.parquet\n",
            "-rw-r--r-- 1 sangwon sangwon  36240 Jan 31  2021 boston_housing.csv\n",
            "-rw-r--r-- 1 sangwon sangwon 143130 Jul  6  2018 appl_stock.csv\n"
          ]
        }
      ],
      "source": [
        "!ls -tl"
      ]
    },
    {
      "cell_type": "code",
      "execution_count": 4,
      "metadata": {
        "id": "-mH3roiKIOix"
      },
      "outputs": [
        {
          "name": "stderr",
          "output_type": "stream",
          "text": [
            "                                                                                \r"
          ]
        }
      ],
      "source": [
        "data = spark.read.csv('./boston_housing.csv', header=True, inferSchema=True)"
      ]
    },
    {
      "cell_type": "code",
      "execution_count": 5,
      "metadata": {
        "colab": {
          "base_uri": "https://localhost:8080/"
        },
        "id": "SCty0kw6ITVi",
        "outputId": "916cbc1e-60c0-4dd5-f874-ac0dc7a882ab"
      },
      "outputs": [
        {
          "name": "stdout",
          "output_type": "stream",
          "text": [
            "root\n",
            " |-- crim: double (nullable = true)\n",
            " |-- zn: double (nullable = true)\n",
            " |-- indus: double (nullable = true)\n",
            " |-- chas: integer (nullable = true)\n",
            " |-- nox: double (nullable = true)\n",
            " |-- rm: double (nullable = true)\n",
            " |-- age: double (nullable = true)\n",
            " |-- dis: double (nullable = true)\n",
            " |-- rad: integer (nullable = true)\n",
            " |-- tax: integer (nullable = true)\n",
            " |-- ptratio: double (nullable = true)\n",
            " |-- b: double (nullable = true)\n",
            " |-- lstat: double (nullable = true)\n",
            " |-- medv: double (nullable = true)\n",
            "\n"
          ]
        }
      ],
      "source": [
        "data.printSchema()"
      ]
    },
    {
      "cell_type": "code",
      "execution_count": 6,
      "metadata": {
        "colab": {
          "base_uri": "https://localhost:8080/"
        },
        "id": "nrlYYyVfIV1e",
        "outputId": "2f53db0a-588b-4796-a30e-6a6913d91f33"
      },
      "outputs": [
        {
          "name": "stdout",
          "output_type": "stream",
          "text": [
            "+-------+----+-----+----+-----+-----+-----+------+---+---+-------+------+-----+----+\n",
            "|   crim|  zn|indus|chas|  nox|   rm|  age|   dis|rad|tax|ptratio|     b|lstat|medv|\n",
            "+-------+----+-----+----+-----+-----+-----+------+---+---+-------+------+-----+----+\n",
            "|0.00632|18.0| 2.31|   0|0.538|6.575| 65.2|  4.09|  1|296|   15.3| 396.9| 4.98|24.0|\n",
            "|0.02731| 0.0| 7.07|   0|0.469|6.421| 78.9|4.9671|  2|242|   17.8| 396.9| 9.14|21.6|\n",
            "|0.02729| 0.0| 7.07|   0|0.469|7.185| 61.1|4.9671|  2|242|   17.8|392.83| 4.03|34.7|\n",
            "|0.03237| 0.0| 2.18|   0|0.458|6.998| 45.8|6.0622|  3|222|   18.7|394.63| 2.94|33.4|\n",
            "|0.06905| 0.0| 2.18|   0|0.458|7.147| 54.2|6.0622|  3|222|   18.7| 396.9| 5.33|36.2|\n",
            "|0.02985| 0.0| 2.18|   0|0.458| 6.43| 58.7|6.0622|  3|222|   18.7|394.12| 5.21|28.7|\n",
            "|0.08829|12.5| 7.87|   0|0.524|6.012| 66.6|5.5605|  5|311|   15.2| 395.6|12.43|22.9|\n",
            "|0.14455|12.5| 7.87|   0|0.524|6.172| 96.1|5.9505|  5|311|   15.2| 396.9|19.15|27.1|\n",
            "|0.21124|12.5| 7.87|   0|0.524|5.631|100.0|6.0821|  5|311|   15.2|386.63|29.93|16.5|\n",
            "|0.17004|12.5| 7.87|   0|0.524|6.004| 85.9|6.5921|  5|311|   15.2|386.71| 17.1|18.9|\n",
            "|0.22489|12.5| 7.87|   0|0.524|6.377| 94.3|6.3467|  5|311|   15.2|392.52|20.45|15.0|\n",
            "|0.11747|12.5| 7.87|   0|0.524|6.009| 82.9|6.2267|  5|311|   15.2| 396.9|13.27|18.9|\n",
            "|0.09378|12.5| 7.87|   0|0.524|5.889| 39.0|5.4509|  5|311|   15.2| 390.5|15.71|21.7|\n",
            "|0.62976| 0.0| 8.14|   0|0.538|5.949| 61.8|4.7075|  4|307|   21.0| 396.9| 8.26|20.4|\n",
            "|0.63796| 0.0| 8.14|   0|0.538|6.096| 84.5|4.4619|  4|307|   21.0|380.02|10.26|18.2|\n",
            "|0.62739| 0.0| 8.14|   0|0.538|5.834| 56.5|4.4986|  4|307|   21.0|395.62| 8.47|19.9|\n",
            "|1.05393| 0.0| 8.14|   0|0.538|5.935| 29.3|4.4986|  4|307|   21.0|386.85| 6.58|23.1|\n",
            "| 0.7842| 0.0| 8.14|   0|0.538| 5.99| 81.7|4.2579|  4|307|   21.0|386.75|14.67|17.5|\n",
            "|0.80271| 0.0| 8.14|   0|0.538|5.456| 36.6|3.7965|  4|307|   21.0|288.99|11.69|20.2|\n",
            "| 0.7258| 0.0| 8.14|   0|0.538|5.727| 69.5|3.7965|  4|307|   21.0|390.95|11.28|18.2|\n",
            "+-------+----+-----+----+-----+-----+-----+------+---+---+-------+------+-----+----+\n",
            "only showing top 20 rows\n",
            "\n"
          ]
        }
      ],
      "source": [
        "data.show()"
      ]
    },
    {
      "cell_type": "markdown",
      "metadata": {
        "id": "cGMk-ULmLcVM"
      },
      "source": [
        "## 피쳐 벡터를 만들기"
      ]
    },
    {
      "cell_type": "code",
      "execution_count": 7,
      "metadata": {
        "id": "vBYWOVQYIXEt"
      },
      "outputs": [],
      "source": [
        "from pyspark.ml.feature import VectorAssembler\n",
        "\n",
        "feature_columns = data.columns[:-1]\n",
        "assembler = VectorAssembler(inputCols=feature_columns, outputCol=\"features\")"
      ]
    },
    {
      "cell_type": "code",
      "execution_count": 8,
      "metadata": {
        "colab": {
          "base_uri": "https://localhost:8080/"
        },
        "id": "SAkNEWkhO9Vk",
        "outputId": "0366aaa0-85e1-4c2a-935c-62054d7a9706"
      },
      "outputs": [
        {
          "data": {
            "text/plain": [
              "['crim',\n",
              " 'zn',\n",
              " 'indus',\n",
              " 'chas',\n",
              " 'nox',\n",
              " 'rm',\n",
              " 'age',\n",
              " 'dis',\n",
              " 'rad',\n",
              " 'tax',\n",
              " 'ptratio',\n",
              " 'b',\n",
              " 'lstat']"
            ]
          },
          "execution_count": 8,
          "metadata": {},
          "output_type": "execute_result"
        }
      ],
      "source": [
        "feature_columns"
      ]
    },
    {
      "cell_type": "code",
      "execution_count": 9,
      "metadata": {
        "id": "8J0_WrOYIqA0"
      },
      "outputs": [],
      "source": [
        "data_2 = assembler.transform(data)"
      ]
    },
    {
      "cell_type": "code",
      "execution_count": 10,
      "metadata": {
        "colab": {
          "base_uri": "https://localhost:8080/"
        },
        "id": "e0WZHfxmIuxr",
        "outputId": "467d56d1-6578-4950-9d7b-72de633fba9f"
      },
      "outputs": [
        {
          "name": "stderr",
          "output_type": "stream",
          "text": [
            "24/06/26 14:28:15 WARN SparkStringUtils: Truncated the string representation of a plan since it was too large. This behavior can be adjusted by setting 'spark.sql.debug.maxToStringFields'.\n"
          ]
        },
        {
          "name": "stdout",
          "output_type": "stream",
          "text": [
            "+-------+----+-----+----+-----+-----+-----+------+---+---+-------+------+-----+----+--------------------+\n",
            "|   crim|  zn|indus|chas|  nox|   rm|  age|   dis|rad|tax|ptratio|     b|lstat|medv|            features|\n",
            "+-------+----+-----+----+-----+-----+-----+------+---+---+-------+------+-----+----+--------------------+\n",
            "|0.00632|18.0| 2.31|   0|0.538|6.575| 65.2|  4.09|  1|296|   15.3| 396.9| 4.98|24.0|[0.00632,18.0,2.3...|\n",
            "|0.02731| 0.0| 7.07|   0|0.469|6.421| 78.9|4.9671|  2|242|   17.8| 396.9| 9.14|21.6|[0.02731,0.0,7.07...|\n",
            "|0.02729| 0.0| 7.07|   0|0.469|7.185| 61.1|4.9671|  2|242|   17.8|392.83| 4.03|34.7|[0.02729,0.0,7.07...|\n",
            "|0.03237| 0.0| 2.18|   0|0.458|6.998| 45.8|6.0622|  3|222|   18.7|394.63| 2.94|33.4|[0.03237,0.0,2.18...|\n",
            "|0.06905| 0.0| 2.18|   0|0.458|7.147| 54.2|6.0622|  3|222|   18.7| 396.9| 5.33|36.2|[0.06905,0.0,2.18...|\n",
            "|0.02985| 0.0| 2.18|   0|0.458| 6.43| 58.7|6.0622|  3|222|   18.7|394.12| 5.21|28.7|[0.02985,0.0,2.18...|\n",
            "|0.08829|12.5| 7.87|   0|0.524|6.012| 66.6|5.5605|  5|311|   15.2| 395.6|12.43|22.9|[0.08829,12.5,7.8...|\n",
            "|0.14455|12.5| 7.87|   0|0.524|6.172| 96.1|5.9505|  5|311|   15.2| 396.9|19.15|27.1|[0.14455,12.5,7.8...|\n",
            "|0.21124|12.5| 7.87|   0|0.524|5.631|100.0|6.0821|  5|311|   15.2|386.63|29.93|16.5|[0.21124,12.5,7.8...|\n",
            "|0.17004|12.5| 7.87|   0|0.524|6.004| 85.9|6.5921|  5|311|   15.2|386.71| 17.1|18.9|[0.17004,12.5,7.8...|\n",
            "|0.22489|12.5| 7.87|   0|0.524|6.377| 94.3|6.3467|  5|311|   15.2|392.52|20.45|15.0|[0.22489,12.5,7.8...|\n",
            "|0.11747|12.5| 7.87|   0|0.524|6.009| 82.9|6.2267|  5|311|   15.2| 396.9|13.27|18.9|[0.11747,12.5,7.8...|\n",
            "|0.09378|12.5| 7.87|   0|0.524|5.889| 39.0|5.4509|  5|311|   15.2| 390.5|15.71|21.7|[0.09378,12.5,7.8...|\n",
            "|0.62976| 0.0| 8.14|   0|0.538|5.949| 61.8|4.7075|  4|307|   21.0| 396.9| 8.26|20.4|[0.62976,0.0,8.14...|\n",
            "|0.63796| 0.0| 8.14|   0|0.538|6.096| 84.5|4.4619|  4|307|   21.0|380.02|10.26|18.2|[0.63796,0.0,8.14...|\n",
            "|0.62739| 0.0| 8.14|   0|0.538|5.834| 56.5|4.4986|  4|307|   21.0|395.62| 8.47|19.9|[0.62739,0.0,8.14...|\n",
            "|1.05393| 0.0| 8.14|   0|0.538|5.935| 29.3|4.4986|  4|307|   21.0|386.85| 6.58|23.1|[1.05393,0.0,8.14...|\n",
            "| 0.7842| 0.0| 8.14|   0|0.538| 5.99| 81.7|4.2579|  4|307|   21.0|386.75|14.67|17.5|[0.7842,0.0,8.14,...|\n",
            "|0.80271| 0.0| 8.14|   0|0.538|5.456| 36.6|3.7965|  4|307|   21.0|288.99|11.69|20.2|[0.80271,0.0,8.14...|\n",
            "| 0.7258| 0.0| 8.14|   0|0.538|5.727| 69.5|3.7965|  4|307|   21.0|390.95|11.28|18.2|[0.7258,0.0,8.14,...|\n",
            "+-------+----+-----+----+-----+-----+-----+------+---+---+-------+------+-----+----+--------------------+\n",
            "only showing top 20 rows\n",
            "\n"
          ]
        }
      ],
      "source": [
        "data_2.show()"
      ]
    },
    {
      "cell_type": "markdown",
      "metadata": {
        "id": "6kK7gG2JLjy_"
      },
      "source": [
        "## 훈련용과 테스트용 데이터를 나누고 Linear Regression 모델을 하나 만든다"
      ]
    },
    {
      "cell_type": "code",
      "execution_count": 11,
      "metadata": {
        "id": "OEmZtDfzIyvc"
      },
      "outputs": [],
      "source": [
        "train, test = data_2.randomSplit([0.7, 0.3])"
      ]
    },
    {
      "cell_type": "code",
      "execution_count": 12,
      "metadata": {
        "id": "y1cKT-0-I2rt"
      },
      "outputs": [
        {
          "name": "stderr",
          "output_type": "stream",
          "text": [
            "24/06/26 14:28:23 WARN Instrumentation: [6b5285f7] regParam is zero, which might cause numerical instability and overfitting.\n",
            "24/06/26 14:28:24 WARN InstanceBuilder: Failed to load implementation from:dev.ludovic.netlib.blas.JNIBLAS\n",
            "24/06/26 14:28:24 WARN InstanceBuilder: Failed to load implementation from:dev.ludovic.netlib.lapack.JNILAPACK\n"
          ]
        }
      ],
      "source": [
        "from pyspark.ml.regression import LinearRegression\n",
        "\n",
        "algo = LinearRegression(featuresCol=\"features\", labelCol=\"medv\")\n",
        "model = algo.fit(train)"
      ]
    },
    {
      "cell_type": "markdown",
      "metadata": {
        "id": "ELSupsQVLFK-"
      },
      "source": [
        "## 모델 성능 측정"
      ]
    },
    {
      "cell_type": "code",
      "execution_count": 13,
      "metadata": {
        "id": "LDzlKgOTJkTJ"
      },
      "outputs": [],
      "source": [
        "evaluation_summary = model.evaluate(test)"
      ]
    },
    {
      "cell_type": "code",
      "execution_count": 14,
      "metadata": {
        "colab": {
          "base_uri": "https://localhost:8080/"
        },
        "id": "02BIJYu4JnNJ",
        "outputId": "38df55f8-4948-46aa-f92c-aa4d48bdf803"
      },
      "outputs": [
        {
          "data": {
            "text/plain": [
              "<pyspark.ml.regression.LinearRegressionSummary at 0x7f5d40282ce0>"
            ]
          },
          "execution_count": 14,
          "metadata": {},
          "output_type": "execute_result"
        }
      ],
      "source": [
        "evaluation_summary"
      ]
    },
    {
      "cell_type": "code",
      "execution_count": 15,
      "metadata": {
        "colab": {
          "base_uri": "https://localhost:8080/"
        },
        "id": "GDSM4ZAeJrFa",
        "outputId": "e1a74afd-381f-4827-d457-7d8ce7a60887"
      },
      "outputs": [
        {
          "data": {
            "text/plain": [
              "3.3130906259182953"
            ]
          },
          "execution_count": 15,
          "metadata": {},
          "output_type": "execute_result"
        }
      ],
      "source": [
        "evaluation_summary.meanAbsoluteError"
      ]
    },
    {
      "cell_type": "code",
      "execution_count": 16,
      "metadata": {
        "colab": {
          "base_uri": "https://localhost:8080/"
        },
        "id": "idZshiJqJuOl",
        "outputId": "1823520d-ac65-45c4-daec-dc94c4f8f347"
      },
      "outputs": [
        {
          "data": {
            "text/plain": [
              "4.382023512576681"
            ]
          },
          "execution_count": 16,
          "metadata": {},
          "output_type": "execute_result"
        }
      ],
      "source": [
        "evaluation_summary.rootMeanSquaredError"
      ]
    },
    {
      "cell_type": "code",
      "execution_count": 17,
      "metadata": {
        "colab": {
          "base_uri": "https://localhost:8080/"
        },
        "id": "3VnnpJqYJx0d",
        "outputId": "d0510505-9cfe-4992-ab00-198d43a94806"
      },
      "outputs": [
        {
          "data": {
            "text/plain": [
              "0.7487619298289795"
            ]
          },
          "execution_count": 17,
          "metadata": {},
          "output_type": "execute_result"
        }
      ],
      "source": [
        "evaluation_summary.r2"
      ]
    },
    {
      "cell_type": "markdown",
      "metadata": {
        "id": "k1V_bYQmLKy2"
      },
      "source": [
        "## 모델 예측값 살펴보기 "
      ]
    },
    {
      "cell_type": "code",
      "execution_count": 18,
      "metadata": {
        "id": "1pegKAalJz4n"
      },
      "outputs": [],
      "source": [
        "predictions = model.transform(test)"
      ]
    },
    {
      "cell_type": "code",
      "execution_count": 19,
      "metadata": {
        "colab": {
          "base_uri": "https://localhost:8080/"
        },
        "id": "8kpfjtXJRVus",
        "outputId": "e4c26d87-2fc0-4a2a-cb6f-0ccc8e8d05eb"
      },
      "outputs": [
        {
          "name": "stdout",
          "output_type": "stream",
          "text": [
            "+-------+----+-----+----+------+-----+----+-------+---+---+-------+------+-----+----+--------------------+------------------+\n",
            "|   crim|  zn|indus|chas|   nox|   rm| age|    dis|rad|tax|ptratio|     b|lstat|medv|            features|        prediction|\n",
            "+-------+----+-----+----+------+-----+----+-------+---+---+-------+------+-----+----+--------------------+------------------+\n",
            "|0.00906|90.0| 2.97|   0|   0.4|7.088|20.8| 7.3073|  1|285|   15.3|394.72| 7.85|32.2|[0.00906,90.0,2.9...|31.083504978653067|\n",
            "|0.01096|55.0| 2.25|   0| 0.389|6.453|31.9| 7.3073|  1|300|   15.3|394.72| 8.23|22.0|[0.01096,55.0,2.2...|27.464475518419256|\n",
            "|0.01311|90.0| 1.22|   0| 0.403|7.249|21.9| 8.6966|  5|226|   17.9|395.93| 4.81|35.4|[0.01311,90.0,1.2...|30.630856043471702|\n",
            "| 0.0136|75.0|  4.0|   0|  0.41|5.888|47.6| 7.3197|  3|469|   21.1| 396.9| 14.8|18.9|[0.0136,75.0,4.0,...|15.007254744180884|\n",
            "|0.01709|90.0| 2.02|   0|  0.41|6.728|36.1|12.1265|  5|187|   17.0|384.46|  4.5|30.1|[0.01709,90.0,2.0...|25.386043659441107|\n",
            "|0.02187|60.0| 2.93|   0| 0.401|  6.8| 9.9| 6.2196|  1|265|   15.6|393.37| 5.03|31.1|[0.02187,60.0,2.9...|31.938805828767663|\n",
            "|0.02498| 0.0| 1.89|   0| 0.518| 6.54|59.7| 6.2669|  1|422|   15.9|389.96| 8.65|16.5|[0.02498,0.0,1.89...|22.132361558703256|\n",
            "|0.02731| 0.0| 7.07|   0| 0.469|6.421|78.9| 4.9671|  2|242|   17.8| 396.9| 9.14|21.6|[0.02731,0.0,7.07...|25.392852500876373|\n",
            "|0.02899|40.0| 1.25|   0| 0.429|6.939|34.5| 8.7921|  1|335|   19.7|389.85| 5.89|26.6|[0.02899,40.0,1.2...| 21.39941448820728|\n",
            "|0.02985| 0.0| 2.18|   0| 0.458| 6.43|58.7| 6.0622|  3|222|   18.7|394.12| 5.21|28.7|[0.02985,0.0,2.18...|25.708982458458745|\n",
            "|0.03113| 0.0| 4.39|   0| 0.442|6.014|48.5| 8.0136|  3|352|   18.8|385.64|10.53|17.5|[0.03113,0.0,4.39...|16.498050184737185|\n",
            "|0.03427| 0.0| 5.19|   0| 0.515|5.869|46.3| 5.2311|  5|224|   20.2| 396.9|  9.8|19.5|[0.03427,0.0,5.19...|20.543031235991208|\n",
            "|0.03551|25.0| 4.86|   0| 0.426|6.167|46.7| 5.4007|  4|281|   19.0|390.64| 7.51|22.9|[0.03551,25.0,4.8...|25.406770406313612|\n",
            "|0.03705|20.0| 3.33|   0|0.4429|6.968|37.2| 5.2447|  5|216|   14.9|392.23| 4.59|35.4|[0.03705,20.0,3.3...|34.607989940831025|\n",
            "|0.03871|52.5| 5.32|   0| 0.405|6.209|31.3| 7.3172|  6|293|   16.6| 396.9| 7.14|23.2|[0.03871,52.5,5.3...|27.394579783210226|\n",
            "|0.04113|25.0| 4.86|   0| 0.426|6.727|33.5| 5.4007|  4|281|   19.0| 396.9| 5.29|28.0|[0.04113,25.0,4.8...|28.232552962026784|\n",
            "|0.04203|28.0|15.04|   0| 0.464|6.442|53.6| 3.6659|  4|270|   18.2|395.01| 8.16|22.9|[0.04203,28.0,15....| 28.93356727384368|\n",
            "|0.04294|28.0|15.04|   0| 0.464|6.249|77.3|  3.615|  4|270|   18.2| 396.9|10.59|20.6|[0.04294,28.0,15....|27.331431070414677|\n",
            "|0.04301|80.0| 1.91|   0| 0.413|5.663|21.9|10.5857|  4|334|   22.0| 382.8| 8.05|18.2|[0.04301,80.0,1.9...|14.268584940815497|\n",
            "|0.04379|80.0| 3.37|   0| 0.398|5.787|31.1| 6.6115|  4|337|   16.1| 396.9|10.24|19.4|[0.04379,80.0,3.3...| 26.17008447302478|\n",
            "+-------+----+-----+----+------+-----+----+-------+---+---+-------+------+-----+----+--------------------+------------------+\n",
            "only showing top 20 rows\n",
            "\n"
          ]
        }
      ],
      "source": [
        "predictions.show()"
      ]
    },
    {
      "cell_type": "code",
      "execution_count": 20,
      "metadata": {
        "colab": {
          "base_uri": "https://localhost:8080/"
        },
        "id": "uxpTKuQyJ8mH",
        "outputId": "d8bd2cd7-277f-4275-8b0a-808068e64578"
      },
      "outputs": [
        {
          "name": "stdout",
          "output_type": "stream",
          "text": [
            "+----+--------------------+------------------+\n",
            "|medv|            features|        prediction|\n",
            "+----+--------------------+------------------+\n",
            "|32.2|[0.00906,90.0,2.9...|31.083504978653067|\n",
            "|22.0|[0.01096,55.0,2.2...|27.464475518419256|\n",
            "|35.4|[0.01311,90.0,1.2...|30.630856043471702|\n",
            "|18.9|[0.0136,75.0,4.0,...|15.007254744180884|\n",
            "|30.1|[0.01709,90.0,2.0...|25.386043659441107|\n",
            "|31.1|[0.02187,60.0,2.9...|31.938805828767663|\n",
            "|16.5|[0.02498,0.0,1.89...|22.132361558703256|\n",
            "|21.6|[0.02731,0.0,7.07...|25.392852500876373|\n",
            "|26.6|[0.02899,40.0,1.2...| 21.39941448820728|\n",
            "|28.7|[0.02985,0.0,2.18...|25.708982458458745|\n",
            "|17.5|[0.03113,0.0,4.39...|16.498050184737185|\n",
            "|19.5|[0.03427,0.0,5.19...|20.543031235991208|\n",
            "|22.9|[0.03551,25.0,4.8...|25.406770406313612|\n",
            "|35.4|[0.03705,20.0,3.3...|34.607989940831025|\n",
            "|23.2|[0.03871,52.5,5.3...|27.394579783210226|\n",
            "|28.0|[0.04113,25.0,4.8...|28.232552962026784|\n",
            "|22.9|[0.04203,28.0,15....| 28.93356727384368|\n",
            "|20.6|[0.04294,28.0,15....|27.331431070414677|\n",
            "|18.2|[0.04301,80.0,1.9...|14.268584940815497|\n",
            "|19.4|[0.04379,80.0,3.3...| 26.17008447302478|\n",
            "+----+--------------------+------------------+\n",
            "only showing top 20 rows\n",
            "\n"
          ]
        }
      ],
      "source": [
        "predictions.select(predictions.columns[13:]).show()"
      ]
    },
    {
      "cell_type": "code",
      "execution_count": 21,
      "metadata": {
        "id": "hiuqE26pKBYV"
      },
      "outputs": [
        {
          "name": "stderr",
          "output_type": "stream",
          "text": [
            "                                                                                \r"
          ]
        }
      ],
      "source": [
        "model.save(\"boston_housing_model\")"
      ]
    },
    {
      "cell_type": "code",
      "execution_count": 22,
      "metadata": {
        "colab": {
          "base_uri": "https://localhost:8080/"
        },
        "id": "-3LEk6_uSCxc",
        "outputId": "2cdba67f-0825-449d-92ab-9d6e6e678883"
      },
      "outputs": [
        {
          "name": "stdout",
          "output_type": "stream",
          "text": [
            "data  metadata\n"
          ]
        }
      ],
      "source": [
        "!ls boston_housing_model"
      ]
    },
    {
      "cell_type": "code",
      "execution_count": 23,
      "metadata": {
        "colab": {
          "base_uri": "https://localhost:8080/"
        },
        "id": "xvfSY3ATX9sl",
        "outputId": "112ffcde-3f45-4a94-d57a-c98854243e59"
      },
      "outputs": [
        {
          "name": "stdout",
          "output_type": "stream",
          "text": [
            "total 8\n",
            "drwxr-xr-x 2 sangwon sangwon 4096 Jun 26 14:30 data\n",
            "drwxr-xr-x 2 sangwon sangwon 4096 Jun 26 14:30 metadata\n"
          ]
        }
      ],
      "source": [
        "!ls -tl boston_housing_model"
      ]
    },
    {
      "cell_type": "code",
      "execution_count": 24,
      "metadata": {
        "colab": {
          "base_uri": "https://localhost:8080/"
        },
        "id": "NgwgLq6xgLwi",
        "outputId": "e89ea101-a925-4b9b-d8b5-cbe762865239"
      },
      "outputs": [
        {
          "ename": "ModuleNotFoundError",
          "evalue": "No module named 'google.colab'",
          "output_type": "error",
          "traceback": [
            "\u001b[0;31m---------------------------------------------------------------------------\u001b[0m",
            "\u001b[0;31mModuleNotFoundError\u001b[0m                       Traceback (most recent call last)",
            "Cell \u001b[0;32mIn[24], line 1\u001b[0m\n\u001b[0;32m----> 1\u001b[0m \u001b[38;5;28;01mfrom\u001b[39;00m \u001b[38;5;21;01mgoogle\u001b[39;00m\u001b[38;5;21;01m.\u001b[39;00m\u001b[38;5;21;01mcolab\u001b[39;00m \u001b[38;5;28;01mimport\u001b[39;00m drive\n\u001b[1;32m      2\u001b[0m drive\u001b[38;5;241m.\u001b[39mmount(\u001b[38;5;124m'\u001b[39m\u001b[38;5;124m/content/gdrive\u001b[39m\u001b[38;5;124m'\u001b[39m)\n",
            "\u001b[0;31mModuleNotFoundError\u001b[0m: No module named 'google.colab'"
          ]
        }
      ],
      "source": [
        "from google.colab import drive\n",
        "drive.mount('/content/gdrive')"
      ]
    },
    {
      "cell_type": "code",
      "execution_count": 30,
      "metadata": {
        "id": "PFEMhdWbgVnk"
      },
      "outputs": [],
      "source": [
        "model_save_name = \"boston_housing_model\"\n",
        "path = F\"/content/gdrive/My Drive/boston_housing_model\" \n",
        "model.save(path)"
      ]
    },
    {
      "cell_type": "code",
      "execution_count": 31,
      "metadata": {
        "id": "GnIczTktX_mC"
      },
      "outputs": [],
      "source": [
        "from pyspark.ml.regression import LinearRegressionModel\n",
        "\n",
        "loaded_model = LinearRegressionModel.load(path)  # \"boston_housing_model\")"
      ]
    },
    {
      "cell_type": "code",
      "execution_count": 32,
      "metadata": {
        "id": "rUPqrP4Beb7P"
      },
      "outputs": [],
      "source": [
        "predictions2 = loaded_model.transform(test)"
      ]
    },
    {
      "cell_type": "code",
      "execution_count": 33,
      "metadata": {
        "colab": {
          "base_uri": "https://localhost:8080/"
        },
        "id": "cXUj8afbfDLz",
        "outputId": "2023c88a-0c23-4ede-a191-15eef7c09e1f"
      },
      "outputs": [
        {
          "name": "stdout",
          "output_type": "stream",
          "text": [
            "+----+--------------------+------------------+\n",
            "|medv|            features|        prediction|\n",
            "+----+--------------------+------------------+\n",
            "|29.1|[0.01439,60.0,2.9...|31.863971610226315|\n",
            "|24.5|[0.01501,80.0,2.0...|27.800912626874748|\n",
            "|44.0|[0.01538,90.0,3.7...|38.081559279682246|\n",
            "|23.9|[0.02543,55.0,3.7...|27.969747095640912|\n",
            "|30.8|[0.02763,75.0,2.9...|31.575873666286917|\n",
            "|25.0|[0.02875,28.0,15....|29.689655131070666|\n",
            "|28.5|[0.03502,80.0,4.9...|33.855798290686124|\n",
            "|45.4|[0.03578,20.0,3.3...|39.495929078055646|\n",
            "|22.0|[0.03932,0.0,3.41...|27.678841182848963|\n",
            "|33.3|[0.04011,80.0,1.5...|36.633177721713174|\n",
            "|22.9|[0.04203,28.0,15....| 29.65081329317448|\n",
            "|18.2|[0.04301,80.0,1.9...|14.312466963142263|\n",
            "|20.5|[0.04337,21.0,5.6...| 24.52586127306892|\n",
            "|19.8|[0.04544,0.0,3.24...|21.560592700808435|\n",
            "|23.3|[0.0456,0.0,13.89...|27.974279873488676|\n",
            "|17.1|[0.05023,35.0,6.0...|20.027398326196785|\n",
            "|22.5|[0.05188,0.0,4.49...| 22.19486700208488|\n",
            "|36.1|[0.05515,33.0,2.1...| 33.36611368642783|\n",
            "|29.0|[0.05561,70.0,2.2...| 32.17872691903795|\n",
            "|32.4|[0.05644,40.0,6.4...|37.623911753498426|\n",
            "+----+--------------------+------------------+\n",
            "only showing top 20 rows\n",
            "\n"
          ]
        }
      ],
      "source": [
        "predictions2.select(predictions.columns[13:]).show()"
      ]
    },
    {
      "cell_type": "code",
      "execution_count": null,
      "metadata": {
        "id": "DAyn3LSafJuv"
      },
      "outputs": [],
      "source": []
    }
  ],
  "metadata": {
    "colab": {
      "provenance": []
    },
    "kernelspec": {
      "display_name": "Python 3",
      "name": "python3"
    },
    "language_info": {
      "codemirror_mode": {
        "name": "ipython",
        "version": 3
      },
      "file_extension": ".py",
      "mimetype": "text/x-python",
      "name": "python",
      "nbconvert_exporter": "python",
      "pygments_lexer": "ipython3",
      "version": "3.10.12"
    }
  },
  "nbformat": 4,
  "nbformat_minor": 0
}
