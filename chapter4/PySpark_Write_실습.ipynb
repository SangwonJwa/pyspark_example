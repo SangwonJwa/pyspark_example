{
  "cells": [
    {
      "cell_type": "markdown",
      "metadata": {
        "id": "XIA23YgbXKJd"
      },
      "source": [
        "이를 위해 pyspark과 Py4J 패키지를 설치한다. Py4J 패키지는 파이썬 프로그램이 자바가상머신상의 오브젝트들을 접근할 수 있게 해준다. Local Standalone Spark을 사용한다."
      ]
    },
    {
      "cell_type": "code",
      "execution_count": 1,
      "metadata": {
        "colab": {
          "base_uri": "https://localhost:8080/"
        },
        "id": "NbT0rpGfVdiq",
        "outputId": "665ef15a-7a7b-447e-b54d-0794dc9e8ff4"
      },
      "outputs": [
        {
          "name": "stdout",
          "output_type": "stream",
          "text": [
            "Defaulting to user installation because normal site-packages is not writeable\n",
            "Requirement already satisfied: pyspark==3.5.1 in /home/sangwon/.local/lib/python3.10/site-packages (3.5.1)\n",
            "Requirement already satisfied: py4j==0.10.9.7 in /home/sangwon/.local/lib/python3.10/site-packages (0.10.9.7)\n"
          ]
        }
      ],
      "source": [
        "!pip install pyspark==3.5.1 py4j==0.10.9.7 "
      ]
    },
    {
      "cell_type": "markdown",
      "metadata": {
        "id": "Ew_eTGrvXlDw"
      },
      "source": [
        "**Spark Session**을 하나 만든다"
      ]
    },
    {
      "cell_type": "code",
      "execution_count": 1,
      "metadata": {
        "id": "3vm6tgcPXdnR"
      },
      "outputs": [
        {
          "name": "stderr",
          "output_type": "stream",
          "text": [
            "your 131072x1 screen size is bogus. expect trouble\n",
            "24/06/25 16:35:29 WARN Utils: Your hostname, LAPTOP-8CK94L0D resolves to a loopback address: 127.0.1.1; using 172.21.9.191 instead (on interface eth0)\n",
            "24/06/25 16:35:29 WARN Utils: Set SPARK_LOCAL_IP if you need to bind to another address\n"
          ]
        },
        {
          "name": "stdout",
          "output_type": "stream",
          "text": [
            ":: loading settings :: url = jar:file:/home/sangwon/devcourse/spark/spark-3.5.1-bin-hadoop3/jars/ivy-2.5.1.jar!/org/apache/ivy/core/settings/ivysettings.xml\n"
          ]
        },
        {
          "name": "stderr",
          "output_type": "stream",
          "text": [
            "Ivy Default Cache set to: /home/sangwon/.ivy2/cache\n",
            "The jars for the packages stored in: /home/sangwon/.ivy2/jars\n",
            "org.apache.spark#spark-avro_2.12 added as a dependency\n",
            ":: resolving dependencies :: org.apache.spark#spark-submit-parent-d8672066-d718-4d27-b22a-a5c213fd8f7e;1.0\n",
            "\tconfs: [default]\n",
            "\tfound org.apache.spark#spark-avro_2.12;3.5.1 in central\n",
            "\tfound org.tukaani#xz;1.9 in central\n",
            "downloading https://repo1.maven.org/maven2/org/apache/spark/spark-avro_2.12/3.5.1/spark-avro_2.12-3.5.1.jar ...\n",
            "\t[SUCCESSFUL ] org.apache.spark#spark-avro_2.12;3.5.1!spark-avro_2.12.jar (441ms)\n",
            "downloading https://repo1.maven.org/maven2/org/tukaani/xz/1.9/xz-1.9.jar ...\n",
            "\t[SUCCESSFUL ] org.tukaani#xz;1.9!xz.jar (307ms)\n",
            ":: resolution report :: resolve 3597ms :: artifacts dl 757ms\n",
            "\t:: modules in use:\n",
            "\torg.apache.spark#spark-avro_2.12;3.5.1 from central in [default]\n",
            "\torg.tukaani#xz;1.9 from central in [default]\n",
            "\t---------------------------------------------------------------------\n",
            "\t|                  |            modules            ||   artifacts   |\n",
            "\t|       conf       | number| search|dwnlded|evicted|| number|dwnlded|\n",
            "\t---------------------------------------------------------------------\n",
            "\t|      default     |   2   |   2   |   2   |   0   ||   2   |   2   |\n",
            "\t---------------------------------------------------------------------\n",
            ":: retrieving :: org.apache.spark#spark-submit-parent-d8672066-d718-4d27-b22a-a5c213fd8f7e\n",
            "\tconfs: [default]\n",
            "\t2 artifacts copied, 0 already retrieved (315kB/11ms)\n",
            "24/06/25 16:35:35 WARN NativeCodeLoader: Unable to load native-hadoop library for your platform... using builtin-java classes where applicable\n",
            "Setting default log level to \"WARN\".\n",
            "To adjust logging level use sc.setLogLevel(newLevel). For SparkR, use setLogLevel(newLevel).\n"
          ]
        }
      ],
      "source": [
        "from pyspark.sql import *\n",
        "from pyspark.sql.functions import *\n",
        "\n",
        "if __name__ == \"__main__\":\n",
        "    spark = SparkSession \\\n",
        "        .builder \\\n",
        "        .appName(\"Spark Writing Demo\") \\\n",
        "        .master(\"local[3]\") \\\n",
        "        .config(\"spark.jars.packages\", \"org.apache.spark:spark-avro_2.12:3.5.1\") \\\n",
        "        .getOrCreate()"
      ]
    },
    {
      "cell_type": "code",
      "execution_count": 2,
      "metadata": {
        "colab": {
          "base_uri": "https://localhost:8080/"
        },
        "id": "UKrMnuGVK77P",
        "outputId": "5005d713-33e7-400b-ef9e-60af6c32926a"
      },
      "outputs": [
        {
          "name": "stdout",
          "output_type": "stream",
          "text": [
            "--2024-06-25 16:26:01--  https://pyspark-test-sj.s3.us-west-2.amazonaws.com/appl_stock.csv\n",
            "Resolving pyspark-test-sj.s3.us-west-2.amazonaws.com (pyspark-test-sj.s3.us-west-2.amazonaws.com)... 52.92.209.186, 52.92.197.58, 52.218.230.41, ...\n",
            "Connecting to pyspark-test-sj.s3.us-west-2.amazonaws.com (pyspark-test-sj.s3.us-west-2.amazonaws.com)|52.92.209.186|:443... connected.\n",
            "HTTP request sent, awaiting response... 200 OK\n",
            "Length: 143130 (140K) [text/csv]\n",
            "Saving to: ‘appl_stock.csv’\n",
            "\n",
            "appl_stock.csv      100%[===================>] 139.78K   285KB/s    in 0.5s    \n",
            "\n",
            "2024-06-25 16:26:03 (285 KB/s) - ‘appl_stock.csv’ saved [143130/143130]\n",
            "\n"
          ]
        }
      ],
      "source": [
        "!wget https://pyspark-test-sj.s3.us-west-2.amazonaws.com/appl_stock.csv"
      ]
    },
    {
      "cell_type": "code",
      "execution_count": 2,
      "metadata": {
        "id": "3ZhdS0i7LZEc"
      },
      "outputs": [
        {
          "name": "stderr",
          "output_type": "stream",
          "text": [
            "                                                                                \r"
          ]
        }
      ],
      "source": [
        "df = spark.read \\\n",
        "    .format(\"csv\") \\\n",
        "    .load(\"appl_stock.csv\")"
      ]
    },
    {
      "cell_type": "code",
      "execution_count": 3,
      "metadata": {
        "colab": {
          "base_uri": "https://localhost:8080/"
        },
        "id": "7g56ZGQKkRBm",
        "outputId": "fa4c5b36-b9db-4e5a-88b0-e6272a98b4b1"
      },
      "outputs": [
        {
          "name": "stdout",
          "output_type": "stream",
          "text": [
            "Num Partitions before: 1\n"
          ]
        },
        {
          "name": "stderr",
          "output_type": "stream",
          "text": [
            "[Stage 1:>                                                          (0 + 1) / 1]\r"
          ]
        },
        {
          "name": "stdout",
          "output_type": "stream",
          "text": [
            "+--------------------+-----+\n",
            "|SPARK_PARTITION_ID()|count|\n",
            "+--------------------+-----+\n",
            "|                   0| 1763|\n",
            "+--------------------+-----+\n",
            "\n"
          ]
        },
        {
          "name": "stderr",
          "output_type": "stream",
          "text": [
            "                                                                                \r"
          ]
        }
      ],
      "source": [
        "print(\"Num Partitions before: \" + str(df.rdd.getNumPartitions()))\n",
        "df.groupBy(spark_partition_id()).count().show()"
      ]
    },
    {
      "cell_type": "code",
      "execution_count": 4,
      "metadata": {
        "colab": {
          "base_uri": "https://localhost:8080/"
        },
        "id": "aej8p-pXDLUR",
        "outputId": "18eba7d6-a6ce-4e08-ca5f-9de943c5146b"
      },
      "outputs": [
        {
          "name": "stdout",
          "output_type": "stream",
          "text": [
            "Num Partitions after: 4\n",
            "+--------------------+-----+\n",
            "|SPARK_PARTITION_ID()|count|\n",
            "+--------------------+-----+\n",
            "|                   0|  440|\n",
            "|                   1|  441|\n",
            "|                   2|  441|\n",
            "|                   3|  441|\n",
            "+--------------------+-----+\n",
            "\n"
          ]
        }
      ],
      "source": [
        "df2 = df.repartition(4)\n",
        "print(\"Num Partitions after: \" + str(df2.rdd.getNumPartitions()))\n",
        "df2.groupBy(spark_partition_id()).count().show()"
      ]
    },
    {
      "cell_type": "code",
      "execution_count": 5,
      "metadata": {
        "colab": {
          "base_uri": "https://localhost:8080/"
        },
        "id": "fu7BluXqZNI5",
        "outputId": "91f68daf-fc9a-4f53-f563-c8da46e189d3"
      },
      "outputs": [
        {
          "name": "stdout",
          "output_type": "stream",
          "text": [
            "Num Partitions after: 2\n",
            "+--------------------+-----+\n",
            "|SPARK_PARTITION_ID()|count|\n",
            "+--------------------+-----+\n",
            "|                   0|  881|\n",
            "|                   1|  882|\n",
            "+--------------------+-----+\n",
            "\n"
          ]
        }
      ],
      "source": [
        "df3 = df2.coalesce(2)\n",
        "print(\"Num Partitions after: \" + str(df3.rdd.getNumPartitions()))\n",
        "df3.groupBy(spark_partition_id()).count().show()"
      ]
    },
    {
      "cell_type": "code",
      "execution_count": 6,
      "metadata": {
        "id": "I9O63IczT1uf"
      },
      "outputs": [
        {
          "name": "stderr",
          "output_type": "stream",
          "text": [
            "                                                                                \r"
          ]
        }
      ],
      "source": [
        "df.write \\\n",
        "    .format(\"avro\") \\\n",
        "    .mode(\"overwrite\") \\\n",
        "    .option(\"path\", \"dataOutput/avro/\") \\\n",
        "    .save()"
      ]
    },
    {
      "cell_type": "code",
      "execution_count": 7,
      "metadata": {
        "id": "T9IeT7ebT-dH"
      },
      "outputs": [
        {
          "name": "stderr",
          "output_type": "stream",
          "text": [
            "                                                                                \r"
          ]
        }
      ],
      "source": [
        "df2.write \\\n",
        "    .format(\"parquet\") \\\n",
        "    .mode(\"overwrite\") \\\n",
        "    .option(\"path\", \"dataOutput/parquet/\") \\\n",
        "    .save()"
      ]
    },
    {
      "cell_type": "code",
      "execution_count": 8,
      "metadata": {
        "id": "ukCfK1vaZaTN"
      },
      "outputs": [],
      "source": [
        "df3.write \\\n",
        "    .format(\"json\") \\\n",
        "    .mode(\"overwrite\") \\\n",
        "    .option(\"path\", \"dataOutput/json/\") \\\n",
        "    .save()"
      ]
    },
    {
      "cell_type": "code",
      "execution_count": 9,
      "metadata": {
        "colab": {
          "base_uri": "https://localhost:8080/"
        },
        "id": "dmZzZFhOWQX-",
        "outputId": "0f119662-abe1-464b-d543-3b766c246c80"
      },
      "outputs": [
        {
          "name": "stdout",
          "output_type": "stream",
          "text": [
            "total 12\n",
            "drwxr-xr-x 2 sangwon sangwon 4096 Jun 25 16:36 json\n",
            "drwxr-xr-x 2 sangwon sangwon 4096 Jun 25 16:36 parquet\n",
            "drwxr-xr-x 2 sangwon sangwon 4096 Jun 25 16:36 avro\n"
          ]
        }
      ],
      "source": [
        "!ls -tl dataOutput/"
      ]
    },
    {
      "cell_type": "code",
      "execution_count": 10,
      "metadata": {
        "colab": {
          "base_uri": "https://localhost:8080/"
        },
        "id": "gtwnnfpEWTck",
        "outputId": "739aa2f8-da9c-4dfc-95f3-d551e5c4689b"
      },
      "outputs": [
        {
          "name": "stdout",
          "output_type": "stream",
          "text": [
            "total 112\n",
            "-rw-r--r-- 1 sangwon sangwon     0 Jun 25 16:36 _SUCCESS\n",
            "-rw-r--r-- 1 sangwon sangwon 28024 Jun 25 16:36 part-00003-1678275a-e217-445c-a34f-f7762bc364b5-c000.snappy.parquet\n",
            "-rw-r--r-- 1 sangwon sangwon 27833 Jun 25 16:36 part-00000-1678275a-e217-445c-a34f-f7762bc364b5-c000.snappy.parquet\n",
            "-rw-r--r-- 1 sangwon sangwon 27787 Jun 25 16:36 part-00001-1678275a-e217-445c-a34f-f7762bc364b5-c000.snappy.parquet\n",
            "-rw-r--r-- 1 sangwon sangwon 28069 Jun 25 16:36 part-00002-1678275a-e217-445c-a34f-f7762bc364b5-c000.snappy.parquet\n"
          ]
        }
      ],
      "source": [
        "!ls -tl dataOutput/parquet/"
      ]
    },
    {
      "cell_type": "code",
      "execution_count": 13,
      "metadata": {
        "colab": {
          "base_uri": "https://localhost:8080/"
        },
        "id": "_EVWKay0WWOp",
        "outputId": "66b392d0-9449-48ff-f98f-d801fd92cdd9"
      },
      "outputs": [
        {
          "name": "stdout",
          "output_type": "stream",
          "text": [
            "total 88\n",
            "-rw-r--r-- 1 root root     0 Jan 26 23:31 _SUCCESS\n",
            "-rw-r--r-- 1 root root 89029 Jan 26 23:31 part-00000-102346ea-bf2b-4535-98bc-72f26c556ee9-c000.avro\n"
          ]
        }
      ],
      "source": [
        "!ls -tl dataOutput/avro/"
      ]
    },
    {
      "cell_type": "code",
      "execution_count": 14,
      "metadata": {
        "colab": {
          "base_uri": "https://localhost:8080/"
        },
        "id": "8w6Y74vaWYSl",
        "outputId": "54636768-964c-4d4d-bbef-b9c86965df5e"
      },
      "outputs": [
        {
          "name": "stdout",
          "output_type": "stream",
          "text": [
            "total 240\n",
            "-rw-r--r-- 1 root root      0 Jan 26 23:31 _SUCCESS\n",
            "-rw-r--r-- 1 root root 122570 Jan 26 23:31 part-00000-7b59cfdd-9394-4373-8445-5014c08f27cb-c000.json\n",
            "-rw-r--r-- 1 root root 122814 Jan 26 23:31 part-00001-7b59cfdd-9394-4373-8445-5014c08f27cb-c000.json\n"
          ]
        }
      ],
      "source": [
        "!ls -tl dataOutput/json/"
      ]
    }
  ],
  "metadata": {
    "colab": {
      "provenance": []
    },
    "kernelspec": {
      "display_name": "Python 3",
      "name": "python3"
    },
    "language_info": {
      "codemirror_mode": {
        "name": "ipython",
        "version": 3
      },
      "file_extension": ".py",
      "mimetype": "text/x-python",
      "name": "python",
      "nbconvert_exporter": "python",
      "pygments_lexer": "ipython3",
      "version": "3.10.12"
    }
  },
  "nbformat": 4,
  "nbformat_minor": 0
}
