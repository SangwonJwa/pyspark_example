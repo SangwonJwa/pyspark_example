{
  "cells": [
    {
      "cell_type": "markdown",
      "metadata": {
        "id": "XIA23YgbXKJd"
      },
      "source": [
        "이를 위해 pyspark과 Py4J 패키지를 설치한다. Py4J 패키지는 파이썬 프로그램이 자바가상머신상의 오브젝트들을 접근할 수 있게 해준다. Local Standalone Spark을 사용한다."
      ]
    },
    {
      "cell_type": "code",
      "execution_count": 1,
      "metadata": {
        "colab": {
          "base_uri": "https://localhost:8080/"
        },
        "id": "NbT0rpGfVdiq",
        "outputId": "b2958c29-d38a-4fd3-c9ef-99f61cbf93bd"
      },
      "outputs": [
        {
          "name": "stdout",
          "output_type": "stream",
          "text": [
            "Defaulting to user installation because normal site-packages is not writeable\n",
            "Requirement already satisfied: pyspark==3.5.1 in /home/sangwon/.local/lib/python3.10/site-packages (3.5.1)\n",
            "Requirement already satisfied: py4j==0.10.9.7 in /home/sangwon/.local/lib/python3.10/site-packages (0.10.9.7)\n"
          ]
        }
      ],
      "source": [
        "!pip install pyspark==3.5.1 py4j==0.10.9.7 "
      ]
    },
    {
      "cell_type": "markdown",
      "metadata": {
        "id": "Ew_eTGrvXlDw"
      },
      "source": [
        "**Spark Session**을 하나 만든다"
      ]
    },
    {
      "cell_type": "code",
      "execution_count": 2,
      "metadata": {
        "id": "3vm6tgcPXdnR"
      },
      "outputs": [
        {
          "name": "stderr",
          "output_type": "stream",
          "text": [
            "your 131072x1 screen size is bogus. expect trouble\n",
            "24/06/25 16:39:39 WARN Utils: Your hostname, LAPTOP-8CK94L0D resolves to a loopback address: 127.0.1.1; using 172.21.9.191 instead (on interface eth0)\n",
            "24/06/25 16:39:39 WARN Utils: Set SPARK_LOCAL_IP if you need to bind to another address\n",
            "Setting default log level to \"WARN\".\n",
            "To adjust logging level use sc.setLogLevel(newLevel). For SparkR, use setLogLevel(newLevel).\n",
            "24/06/25 16:39:41 WARN NativeCodeLoader: Unable to load native-hadoop library for your platform... using builtin-java classes where applicable\n",
            "24/06/25 16:39:43 WARN Utils: Service 'SparkUI' could not bind on port 4040. Attempting port 4041.\n"
          ]
        }
      ],
      "source": [
        "from pyspark.sql import *\n",
        "from pyspark.sql.functions import *\n",
        "\n",
        "if __name__ == \"__main__\":\n",
        "    spark = SparkSession \\\n",
        "        .builder \\\n",
        "        .appName(\"Spark Schema Evolution Demo\") \\\n",
        "        .master(\"local[3]\") \\\n",
        "        .getOrCreate()"
      ]
    },
    {
      "cell_type": "code",
      "execution_count": 3,
      "metadata": {
        "colab": {
          "base_uri": "https://localhost:8080/"
        },
        "id": "UKrMnuGVK77P",
        "outputId": "4f09cac2-bda4-421e-aed5-d183827668a5"
      },
      "outputs": [
        {
          "name": "stdout",
          "output_type": "stream",
          "text": [
            "--2024-06-25 16:39:50--  https://s3-geospatial.s3.us-west-2.amazonaws.com/schema1.parquet\n",
            "Resolving s3-geospatial.s3.us-west-2.amazonaws.com (s3-geospatial.s3.us-west-2.amazonaws.com)... 3.5.85.105, 3.5.77.200, 3.5.83.196, ...\n",
            "Connecting to s3-geospatial.s3.us-west-2.amazonaws.com (s3-geospatial.s3.us-west-2.amazonaws.com)|3.5.85.105|:443... connected.\n",
            "HTTP request sent, awaiting response... 200 OK\n",
            "Length: 49915 (49K) [binary/octet-stream]\n",
            "Saving to: ‘schema1.parquet’\n",
            "\n",
            "schema1.parquet     100%[===================>]  48.75K   305KB/s    in 0.2s    \n",
            "\n",
            "2024-06-25 16:39:51 (305 KB/s) - ‘schema1.parquet’ saved [49915/49915]\n",
            "\n",
            "--2024-06-25 16:39:51--  https://s3-geospatial.s3.us-west-2.amazonaws.com/schema2.parquet\n",
            "Resolving s3-geospatial.s3.us-west-2.amazonaws.com (s3-geospatial.s3.us-west-2.amazonaws.com)... 3.5.85.105, 3.5.77.200, 3.5.83.196, ...\n",
            "Connecting to s3-geospatial.s3.us-west-2.amazonaws.com (s3-geospatial.s3.us-west-2.amazonaws.com)|3.5.85.105|:443... connected.\n",
            "HTTP request sent, awaiting response... 200 OK\n",
            "Length: 57205 (56K) [binary/octet-stream]\n",
            "Saving to: ‘schema2.parquet’\n",
            "\n",
            "schema2.parquet     100%[===================>]  55.86K   349KB/s    in 0.2s    \n",
            "\n",
            "2024-06-25 16:39:52 (349 KB/s) - ‘schema2.parquet’ saved [57205/57205]\n",
            "\n",
            "--2024-06-25 16:39:52--  https://s3-geospatial.s3.us-west-2.amazonaws.com/schema3.parquet\n",
            "Resolving s3-geospatial.s3.us-west-2.amazonaws.com (s3-geospatial.s3.us-west-2.amazonaws.com)... 3.5.85.105, 3.5.77.200, 3.5.83.196, ...\n",
            "Connecting to s3-geospatial.s3.us-west-2.amazonaws.com (s3-geospatial.s3.us-west-2.amazonaws.com)|3.5.85.105|:443... connected.\n",
            "HTTP request sent, awaiting response... 200 OK\n",
            "Length: 71580 (70K) [binary/octet-stream]\n",
            "Saving to: ‘schema3.parquet’\n",
            "\n",
            "schema3.parquet     100%[===================>]  69.90K   457KB/s    in 0.2s    \n",
            "\n",
            "2024-06-25 16:39:53 (457 KB/s) - ‘schema3.parquet’ saved [71580/71580]\n",
            "\n"
          ]
        }
      ],
      "source": [
        "!wget https://s3-geospatial.s3.us-west-2.amazonaws.com/schema1.parquet\n",
        "!wget https://s3-geospatial.s3.us-west-2.amazonaws.com/schema2.parquet\n",
        "!wget https://s3-geospatial.s3.us-west-2.amazonaws.com/schema3.parquet"
      ]
    },
    {
      "cell_type": "code",
      "execution_count": 4,
      "metadata": {
        "colab": {
          "base_uri": "https://localhost:8080/"
        },
        "id": "aej8p-pXDLUR",
        "outputId": "cf62aafe-00d4-4105-ad25-fded0d86a72b"
      },
      "outputs": [
        {
          "name": "stderr",
          "output_type": "stream",
          "text": [
            "                                                                                \r"
          ]
        },
        {
          "name": "stdout",
          "output_type": "stream",
          "text": [
            "root\n",
            " |-- Date: timestamp (nullable = true)\n",
            " |-- Open: double (nullable = true)\n",
            " |-- High: double (nullable = true)\n",
            " |-- Low: double (nullable = true)\n",
            " |-- Close: double (nullable = true)\n",
            "\n"
          ]
        },
        {
          "name": "stderr",
          "output_type": "stream",
          "text": [
            "                                                                                \r"
          ]
        },
        {
          "name": "stdout",
          "output_type": "stream",
          "text": [
            "+-------------------+------------------+------------------+------------------+------------------+\n",
            "|               Date|              Open|              High|               Low|             Close|\n",
            "+-------------------+------------------+------------------+------------------+------------------+\n",
            "|2010-01-04 17:00:00|        213.429998|        214.499996|212.38000099999996|        214.009998|\n",
            "|2010-01-05 17:00:00|        214.599998|        215.589994|        213.249994|        214.379993|\n",
            "|2010-01-06 17:00:00|        214.379993|            215.23|        210.750004|        210.969995|\n",
            "|2010-01-07 17:00:00|            211.75|        212.000006|        209.050005|            210.58|\n",
            "|2010-01-08 17:00:00|        210.299994|        212.000006|209.06000500000002|211.98000499999998|\n",
            "|2010-01-11 17:00:00|212.79999700000002|        213.000002|        208.450005|210.11000299999998|\n",
            "|2010-01-12 17:00:00|209.18999499999998|209.76999500000002|        206.419998|        207.720001|\n",
            "|2010-01-13 17:00:00|        207.870005|210.92999500000002|        204.099998|        210.650002|\n",
            "|2010-01-14 17:00:00|210.11000299999998|210.45999700000002|        209.020004|            209.43|\n",
            "|2010-01-15 17:00:00|210.92999500000002|211.59999700000003|        205.869999|            205.93|\n",
            "|2010-01-19 17:00:00|        208.330002|215.18999900000003|        207.240004|        215.039995|\n",
            "|2010-01-20 17:00:00|        214.910006|        215.549994|        209.500002|            211.73|\n",
            "|2010-01-21 17:00:00|        212.079994|213.30999599999998|        207.210003|        208.069996|\n",
            "|2010-01-22 17:00:00|206.78000600000001|        207.499996|            197.16|            197.75|\n",
            "|2010-01-25 17:00:00|202.51000200000001|        204.699999|        200.190002|        203.070002|\n",
            "|2010-01-26 17:00:00|205.95000100000001|        213.710005|        202.580004|        205.940001|\n",
            "|2010-01-27 17:00:00|        206.849995|            210.58|        199.530001|        207.880005|\n",
            "|2010-01-28 17:00:00|        204.930004|        205.500004|        198.699995|        199.289995|\n",
            "|2010-01-29 17:00:00|        201.079996|        202.199995|        190.250002|        192.060003|\n",
            "|2010-02-01 17:00:00|192.36999699999998|             196.0|191.29999899999999|        194.729998|\n",
            "+-------------------+------------------+------------------+------------------+------------------+\n",
            "only showing top 20 rows\n",
            "\n"
          ]
        }
      ],
      "source": [
        "df1 = spark.read. \\\n",
        "    parquet(\"schema1.parquet\")\n",
        "    \n",
        "df1.printSchema()\n",
        "df1.show()"
      ]
    },
    {
      "cell_type": "code",
      "execution_count": 5,
      "metadata": {
        "colab": {
          "base_uri": "https://localhost:8080/"
        },
        "id": "IF7swt92cxjB",
        "outputId": "8ac75b54-433b-4fe9-f226-d281e9b59866"
      },
      "outputs": [
        {
          "name": "stdout",
          "output_type": "stream",
          "text": [
            "root\n",
            " |-- Date: timestamp (nullable = true)\n",
            " |-- Open: double (nullable = true)\n",
            " |-- High: double (nullable = true)\n",
            " |-- Low: double (nullable = true)\n",
            " |-- Close: double (nullable = true)\n",
            " |-- Volume: integer (nullable = true)\n",
            "\n",
            "+-------------------+------------------+------------------+------------------+------------------+---------+\n",
            "|               Date|              Open|              High|               Low|             Close|   Volume|\n",
            "+-------------------+------------------+------------------+------------------+------------------+---------+\n",
            "|2010-01-04 17:00:00|        213.429998|        214.499996|212.38000099999996|        214.009998|123432400|\n",
            "|2010-01-05 17:00:00|        214.599998|        215.589994|        213.249994|        214.379993|150476200|\n",
            "|2010-01-06 17:00:00|        214.379993|            215.23|        210.750004|        210.969995|138040000|\n",
            "|2010-01-07 17:00:00|            211.75|        212.000006|        209.050005|            210.58|119282800|\n",
            "|2010-01-08 17:00:00|        210.299994|        212.000006|209.06000500000002|211.98000499999998|111902700|\n",
            "|2010-01-11 17:00:00|212.79999700000002|        213.000002|        208.450005|210.11000299999998|115557400|\n",
            "|2010-01-12 17:00:00|209.18999499999998|209.76999500000002|        206.419998|        207.720001|148614900|\n",
            "|2010-01-13 17:00:00|        207.870005|210.92999500000002|        204.099998|        210.650002|151473000|\n",
            "|2010-01-14 17:00:00|210.11000299999998|210.45999700000002|        209.020004|            209.43|108223500|\n",
            "|2010-01-15 17:00:00|210.92999500000002|211.59999700000003|        205.869999|            205.93|148516900|\n",
            "|2010-01-19 17:00:00|        208.330002|215.18999900000003|        207.240004|        215.039995|182501900|\n",
            "|2010-01-20 17:00:00|        214.910006|        215.549994|        209.500002|            211.73|153038200|\n",
            "|2010-01-21 17:00:00|        212.079994|213.30999599999998|        207.210003|        208.069996|152038600|\n",
            "|2010-01-22 17:00:00|206.78000600000001|        207.499996|            197.16|            197.75|220441900|\n",
            "|2010-01-25 17:00:00|202.51000200000001|        204.699999|        200.190002|        203.070002|266424900|\n",
            "|2010-01-26 17:00:00|205.95000100000001|        213.710005|        202.580004|        205.940001|466777500|\n",
            "|2010-01-27 17:00:00|        206.849995|            210.58|        199.530001|        207.880005|430642100|\n",
            "|2010-01-28 17:00:00|        204.930004|        205.500004|        198.699995|        199.289995|293375600|\n",
            "|2010-01-29 17:00:00|        201.079996|        202.199995|        190.250002|        192.060003|311488100|\n",
            "|2010-02-01 17:00:00|192.36999699999998|             196.0|191.29999899999999|        194.729998|187469100|\n",
            "+-------------------+------------------+------------------+------------------+------------------+---------+\n",
            "only showing top 20 rows\n",
            "\n"
          ]
        }
      ],
      "source": [
        "df2 = spark.read. \\\n",
        "    parquet(\"schema2.parquet\")\n",
        "    \n",
        "df2.printSchema()\n",
        "df2.show()"
      ]
    },
    {
      "cell_type": "code",
      "execution_count": 6,
      "metadata": {
        "colab": {
          "base_uri": "https://localhost:8080/"
        },
        "id": "VJ_kvis5cz-S",
        "outputId": "9f642617-817a-41e3-e1d0-f543791e6847"
      },
      "outputs": [
        {
          "name": "stdout",
          "output_type": "stream",
          "text": [
            "root\n",
            " |-- Date: timestamp (nullable = true)\n",
            " |-- Open: double (nullable = true)\n",
            " |-- High: double (nullable = true)\n",
            " |-- Low: double (nullable = true)\n",
            " |-- Close: double (nullable = true)\n",
            " |-- Volume: integer (nullable = true)\n",
            " |-- Adj Close: double (nullable = true)\n",
            "\n",
            "+-------------------+------------------+------------------+------------------+------------------+---------+------------------+\n",
            "|               Date|              Open|              High|               Low|             Close|   Volume|         Adj Close|\n",
            "+-------------------+------------------+------------------+------------------+------------------+---------+------------------+\n",
            "|2010-01-04 17:00:00|        213.429998|        214.499996|212.38000099999996|        214.009998|123432400|         27.727039|\n",
            "|2010-01-05 17:00:00|        214.599998|        215.589994|        213.249994|        214.379993|150476200|27.774976000000002|\n",
            "|2010-01-06 17:00:00|        214.379993|            215.23|        210.750004|        210.969995|138040000|27.333178000000004|\n",
            "|2010-01-07 17:00:00|            211.75|        212.000006|        209.050005|            210.58|119282800|          27.28265|\n",
            "|2010-01-08 17:00:00|        210.299994|        212.000006|209.06000500000002|211.98000499999998|111902700|         27.464034|\n",
            "|2010-01-11 17:00:00|212.79999700000002|        213.000002|        208.450005|210.11000299999998|115557400|         27.221758|\n",
            "|2010-01-12 17:00:00|209.18999499999998|209.76999500000002|        206.419998|        207.720001|148614900|          26.91211|\n",
            "|2010-01-13 17:00:00|        207.870005|210.92999500000002|        204.099998|        210.650002|151473000|          27.29172|\n",
            "|2010-01-14 17:00:00|210.11000299999998|210.45999700000002|        209.020004|            209.43|108223500|         27.133657|\n",
            "|2010-01-15 17:00:00|210.92999500000002|211.59999700000003|        205.869999|            205.93|148516900|26.680197999999997|\n",
            "|2010-01-19 17:00:00|        208.330002|215.18999900000003|        207.240004|        215.039995|182501900|27.860484999999997|\n",
            "|2010-01-20 17:00:00|        214.910006|        215.549994|        209.500002|            211.73|153038200|         27.431644|\n",
            "|2010-01-21 17:00:00|        212.079994|213.30999599999998|        207.210003|        208.069996|152038600|         26.957455|\n",
            "|2010-01-22 17:00:00|206.78000600000001|        207.499996|            197.16|            197.75|220441900|         25.620401|\n",
            "|2010-01-25 17:00:00|202.51000200000001|        204.699999|        200.190002|        203.070002|266424900|26.309658000000002|\n",
            "|2010-01-26 17:00:00|205.95000100000001|        213.710005|        202.580004|        205.940001|466777500|         26.681494|\n",
            "|2010-01-27 17:00:00|        206.849995|            210.58|        199.530001|        207.880005|430642100|26.932840000000002|\n",
            "|2010-01-28 17:00:00|        204.930004|        205.500004|        198.699995|        199.289995|293375600|25.819922000000002|\n",
            "|2010-01-29 17:00:00|        201.079996|        202.199995|        190.250002|        192.060003|311488100|         24.883208|\n",
            "|2010-02-01 17:00:00|192.36999699999998|             196.0|191.29999899999999|        194.729998|187469100|         25.229131|\n",
            "+-------------------+------------------+------------------+------------------+------------------+---------+------------------+\n",
            "only showing top 20 rows\n",
            "\n"
          ]
        }
      ],
      "source": [
        "df3 = spark.read. \\\n",
        "    parquet(\"schema3.parquet\")\n",
        "    \n",
        "df3.printSchema()\n",
        "df3.show()"
      ]
    },
    {
      "cell_type": "code",
      "execution_count": 7,
      "metadata": {
        "colab": {
          "base_uri": "https://localhost:8080/"
        },
        "id": "3ZhdS0i7LZEc",
        "outputId": "be22b78c-fe48-4b57-b8b9-035ae77c23ea"
      },
      "outputs": [
        {
          "name": "stdout",
          "output_type": "stream",
          "text": [
            "root\n",
            " |-- Date: timestamp (nullable = true)\n",
            " |-- Open: double (nullable = true)\n",
            " |-- High: double (nullable = true)\n",
            " |-- Low: double (nullable = true)\n",
            " |-- Close: double (nullable = true)\n",
            " |-- Volume: integer (nullable = true)\n",
            " |-- Adj Close: double (nullable = true)\n",
            "\n"
          ]
        }
      ],
      "source": [
        "df = spark.read. \\\n",
        "    option(\"mergeSchema\", True). \\\n",
        "    parquet(\"*.parquet\")\n",
        "    \n",
        "df.printSchema()"
      ]
    },
    {
      "cell_type": "code",
      "execution_count": 8,
      "metadata": {
        "colab": {
          "base_uri": "https://localhost:8080/"
        },
        "id": "7g56ZGQKkRBm",
        "outputId": "470515fb-bef2-467e-b72a-f4a569559b2c"
      },
      "outputs": [
        {
          "name": "stdout",
          "output_type": "stream",
          "text": [
            "+-------------------+------------------+------------------+------------------+------------------+---------+------------------+\n",
            "|               Date|              Open|              High|               Low|             Close|   Volume|         Adj Close|\n",
            "+-------------------+------------------+------------------+------------------+------------------+---------+------------------+\n",
            "|2010-01-04 17:00:00|        213.429998|        214.499996|212.38000099999996|        214.009998|123432400|         27.727039|\n",
            "|2010-01-05 17:00:00|        214.599998|        215.589994|        213.249994|        214.379993|150476200|27.774976000000002|\n",
            "|2010-01-06 17:00:00|        214.379993|            215.23|        210.750004|        210.969995|138040000|27.333178000000004|\n",
            "|2010-01-07 17:00:00|            211.75|        212.000006|        209.050005|            210.58|119282800|          27.28265|\n",
            "|2010-01-08 17:00:00|        210.299994|        212.000006|209.06000500000002|211.98000499999998|111902700|         27.464034|\n",
            "|2010-01-11 17:00:00|212.79999700000002|        213.000002|        208.450005|210.11000299999998|115557400|         27.221758|\n",
            "|2010-01-12 17:00:00|209.18999499999998|209.76999500000002|        206.419998|        207.720001|148614900|          26.91211|\n",
            "|2010-01-13 17:00:00|        207.870005|210.92999500000002|        204.099998|        210.650002|151473000|          27.29172|\n",
            "|2010-01-14 17:00:00|210.11000299999998|210.45999700000002|        209.020004|            209.43|108223500|         27.133657|\n",
            "|2010-01-15 17:00:00|210.92999500000002|211.59999700000003|        205.869999|            205.93|148516900|26.680197999999997|\n",
            "+-------------------+------------------+------------------+------------------+------------------+---------+------------------+\n",
            "only showing top 10 rows\n",
            "\n"
          ]
        }
      ],
      "source": [
        "df.show(10)"
      ]
    }
  ],
  "metadata": {
    "colab": {
      "provenance": []
    },
    "kernelspec": {
      "display_name": "Python 3",
      "name": "python3"
    },
    "language_info": {
      "codemirror_mode": {
        "name": "ipython",
        "version": 3
      },
      "file_extension": ".py",
      "mimetype": "text/x-python",
      "name": "python",
      "nbconvert_exporter": "python",
      "pygments_lexer": "ipython3",
      "version": "3.10.12"
    }
  },
  "nbformat": 4,
  "nbformat_minor": 0
}
