{
  "cells": [
    {
      "cell_type": "code",
      "execution_count": 1,
      "metadata": {
        "colab": {
          "base_uri": "https://localhost:8080/"
        },
        "id": "Q_Wyv6ahKs8R",
        "outputId": "4ed12ac6-4753-4983-9931-0526556250d0"
      },
      "outputs": [
        {
          "name": "stdout",
          "output_type": "stream",
          "text": [
            "Defaulting to user installation because normal site-packages is not writeable\n",
            "Requirement already satisfied: pyspark==3.3.1 in /home/sangwon/.local/lib/python3.10/site-packages (3.3.1)\n",
            "Requirement already satisfied: py4j==0.10.9.5 in /home/sangwon/.local/lib/python3.10/site-packages (0.10.9.5)\n"
          ]
        }
      ],
      "source": [
        "!pip install pyspark==3.3.1 py4j==0.10.9.5"
      ]
    },
    {
      "cell_type": "code",
      "execution_count": 2,
      "metadata": {
        "id": "zS9lNDeRKygm"
      },
      "outputs": [
        {
          "name": "stderr",
          "output_type": "stream",
          "text": [
            "your 131072x1 screen size is bogus. expect trouble\n",
            "24/06/20 01:38:58 WARN Utils: Your hostname, LAPTOP-8CK94L0D resolves to a loopback address: 127.0.1.1; using 172.21.9.191 instead (on interface eth0)\n",
            "24/06/20 01:38:58 WARN Utils: Set SPARK_LOCAL_IP if you need to bind to another address\n",
            "Setting default log level to \"WARN\".\n",
            "To adjust logging level use sc.setLogLevel(newLevel). For SparkR, use setLogLevel(newLevel).\n",
            "24/06/20 01:39:00 WARN NativeCodeLoader: Unable to load native-hadoop library for your platform... using builtin-java classes where applicable\n"
          ]
        }
      ],
      "source": [
        "from pyspark.sql import SparkSession\n",
        "from pyspark import SparkConf\n",
        "\n",
        "conf = SparkConf()\n",
        "conf.set(\"spark.app.name\", \"PySpark DataFrame #3\")\n",
        "conf.set(\"spark.master\", \"local[*]\")\n",
        "\n",
        "spark = SparkSession.builder\\\n",
        "        .config(conf=conf)\\\n",
        "        .getOrCreate()"
      ]
    },
    {
      "cell_type": "code",
      "execution_count": 3,
      "metadata": {
        "colab": {
          "base_uri": "https://localhost:8080/"
        },
        "id": "Sg6lKFCVK5uw",
        "outputId": "55e78a5e-9202-48b3-a6ce-2e656b3c46fa"
      },
      "outputs": [
        {
          "name": "stdout",
          "output_type": "stream",
          "text": [
            "--2024-06-20 01:39:08--  https://s3-geospatial.s3.us-west-2.amazonaws.com/transfer_cost.txt\n",
            "Resolving s3-geospatial.s3.us-west-2.amazonaws.com (s3-geospatial.s3.us-west-2.amazonaws.com)... 52.92.147.2, 52.218.250.1, 52.92.241.242, ...\n",
            "Connecting to s3-geospatial.s3.us-west-2.amazonaws.com (s3-geospatial.s3.us-west-2.amazonaws.com)|52.92.147.2|:443... connected.\n",
            "HTTP request sent, awaiting response... 200 OK\n",
            "Length: 286779 (280K) [text/plain]\n",
            "Saving to: ‘transfer_cost.txt’\n",
            "\n",
            "transfer_cost.txt   100%[===================>] 280.06K   591KB/s    in 0.5s    \n",
            "\n",
            "2024-06-20 01:39:09 (591 KB/s) - ‘transfer_cost.txt’ saved [286779/286779]\n",
            "\n"
          ]
        }
      ],
      "source": [
        "!wget https://s3-geospatial.s3.us-west-2.amazonaws.com/transfer_cost.txt"
      ]
    },
    {
      "cell_type": "code",
      "execution_count": 4,
      "metadata": {
        "colab": {
          "base_uri": "https://localhost:8080/"
        },
        "id": "bu8GWTxe00mU",
        "outputId": "aa5e8967-449b-4a23-f7f8-dfac7dad0320"
      },
      "outputs": [
        {
          "name": "stdout",
          "output_type": "stream",
          "text": [
            "total 660\n",
            "-rw-r--r-- 1 sangwon sangwon  26357 Jun 20 01:38 PySpark_DataFrame_2.ipynb\n",
            "drwxr-xr-x 2 sangwon sangwon   4096 Jun 20 01:38 spark-warehouse\n",
            "-rw-r--r-- 1 sangwon sangwon  32855 Jun 20 01:30 PySpark_DataFrame_1.ipynb\n",
            "-rw-r--r-- 1 sangwon sangwon  13964 Jun 20 01:17 PySpark_DataFrame_3.ipynb\n",
            "-rw-r--r-- 1 sangwon sangwon  31613 Jun 20 01:17 PySpark_DataFrame_4.ipynb\n",
            "-rw-r--r-- 1 sangwon sangwon  21447 Jun 20 01:17 PySpark_DataFrame_5.ipynb\n",
            "-rw-r--r-- 1 sangwon sangwon  26539 Jun 20 01:17 PySpark_설치_및_테스트.ipynb\n",
            "-rw-r--r-- 1 sangwon sangwon 286779 Apr 25  2022 transfer_cost.txt\n",
            "-rw-r--r-- 1 sangwon sangwon 146855 Apr 10  2022 customer-orders.csv\n",
            "-rw-r--r-- 1 sangwon sangwon  62728 Apr 10  2022 1800.csv\n"
          ]
        }
      ],
      "source": [
        "!ls -tl"
      ]
    },
    {
      "cell_type": "code",
      "execution_count": 5,
      "metadata": {
        "colab": {
          "base_uri": "https://localhost:8080/"
        },
        "id": "uVYjxP2yA3D7",
        "outputId": "1bb99492-7643-4c8b-8be1-dfb509be168d"
      },
      "outputs": [
        {
          "name": "stdout",
          "output_type": "stream",
          "text": [
            "On 2021-01-04 the cost per ton from 85001 to 85002 is $28.32 at ABC Hauling\n",
            "On 2021-01-04 the cost per ton from 85001 to 85004 is $25.68 at ABC Hauling\n",
            "On 2021-01-04 the cost per ton from 85001 to 85007 is 19.86 at ABC Hauling\n",
            "On 2021-01-04 the cost per ton from 85001 to 85007 is 20.52 at Haul Today\n",
            "On 2021-01-04 the cost per ton from 85001 to 85010 is 20.72 at Haul Today\n"
          ]
        }
      ],
      "source": [
        "!head -5 transfer_cost.txt"
      ]
    },
    {
      "cell_type": "code",
      "execution_count": 6,
      "metadata": {
        "id": "kbbB3xcPapVl"
      },
      "outputs": [],
      "source": [
        "import pyspark.sql.functions as F\n",
        "from pyspark.sql.types import *\n",
        "\n",
        "schema = StructType([ StructField(\"text\", StringType(), True)])\n",
        "transfer_cost_df = spark.read.schema(schema).text(\"transfer_cost.txt\")"
      ]
    },
    {
      "cell_type": "code",
      "execution_count": 7,
      "metadata": {
        "colab": {
          "base_uri": "https://localhost:8080/"
        },
        "id": "hZiZwF-gbOrV",
        "outputId": "1badfa1b-3710-4e3f-a012-d971df00eca8"
      },
      "outputs": [
        {
          "name": "stdout",
          "output_type": "stream",
          "text": [
            "+---------------------------------------------------------------------------+\n",
            "|text                                                                       |\n",
            "+---------------------------------------------------------------------------+\n",
            "|On 2021-01-04 the cost per ton from 85001 to 85002 is $28.32 at ABC Hauling|\n",
            "|On 2021-01-04 the cost per ton from 85001 to 85004 is $25.68 at ABC Hauling|\n",
            "|On 2021-01-04 the cost per ton from 85001 to 85007 is 19.86 at ABC Hauling |\n",
            "|On 2021-01-04 the cost per ton from 85001 to 85007 is 20.52 at Haul Today  |\n",
            "|On 2021-01-04 the cost per ton from 85001 to 85010 is 20.72 at Haul Today  |\n",
            "|On 2021-01-04 the cost per ton from 85001 to 85012 is $18.98 at ABC Hauling|\n",
            "|On 2021-01-04 the cost per ton from 85001 to 85013 is 26.64 at Haul Today  |\n",
            "|On 2021-01-04 the cost per ton from 85001 to 85020 is 26.34 at ABC Hauling |\n",
            "|On 2021-01-04 the cost per ton from 85001 to 85021 is $20.15 at ABC Hauling|\n",
            "|On 2021-01-04 the cost per ton from 85002 to 85001 is 21.57 at Haul Today  |\n",
            "|On 2021-01-04 the cost per ton from 85002 to 85004 is 21.40 at Haul Today  |\n",
            "|On 2021-01-04 the cost per ton from 85002 to 85007 is 25.93 at Haul Today  |\n",
            "|On 2021-01-04 the cost per ton from 85002 to 85010 is 19.80 at Haul Today  |\n",
            "|On 2021-01-04 the cost per ton from 85002 to 85012 is 21.66 at Haul Today  |\n",
            "|On 2021-01-04 the cost per ton from 85002 to 85013 is $25.90 at Haul Today |\n",
            "|On 2021-01-04 the cost per ton from 85002 to 85020 is 19.15 at ABC Hauling |\n",
            "|On 2021-01-04 the cost per ton from 85002 to 85021 is $27.13 at Haul Today |\n",
            "|On 2021-01-04 the cost per ton from 85004 to 85001 is 23.88 at Haul Today  |\n",
            "|On 2021-01-04 the cost per ton from 85004 to 85002 is 26.40 at ABC Hauling |\n",
            "|On 2021-01-04 the cost per ton from 85004 to 85007 is 26.03 at ABC Hauling |\n",
            "+---------------------------------------------------------------------------+\n",
            "only showing top 20 rows\n",
            "\n"
          ]
        }
      ],
      "source": [
        "transfer_cost_df.show(truncate=False)"
      ]
    },
    {
      "cell_type": "code",
      "execution_count": 8,
      "metadata": {
        "id": "n2EYklWrbSK5"
      },
      "outputs": [],
      "source": [
        "from pyspark.sql.functions import *\n",
        "regex_str = r'On (\\S+) the cost per ton from (\\d+) to (\\d+) is (\\S+) at (.*)'\n",
        "\n",
        "df_with_new_columns = transfer_cost_df\\\n",
        "    .withColumn('week', regexp_extract('text', regex_str, 1))\\\n",
        "    .withColumn('departure_zipcode', regexp_extract(column('text'), regex_str, 2))\\\n",
        "    .withColumn('arrival_zipcode', regexp_extract(transfer_cost_df.text, regex_str, 3))\\\n",
        "    .withColumn('cost', regexp_extract(col('text'), regex_str, 4))\\\n",
        "    .withColumn('vendor', regexp_extract(col('text'), regex_str, 5))"
      ]
    },
    {
      "cell_type": "code",
      "execution_count": 9,
      "metadata": {
        "colab": {
          "base_uri": "https://localhost:8080/"
        },
        "id": "6PdecGV1XMIi",
        "outputId": "0402b8c2-d16f-4f44-b006-c50fd9831854"
      },
      "outputs": [
        {
          "name": "stdout",
          "output_type": "stream",
          "text": [
            "root\n",
            " |-- text: string (nullable = true)\n",
            " |-- week: string (nullable = true)\n",
            " |-- departure_zipcode: string (nullable = true)\n",
            " |-- arrival_zipcode: string (nullable = true)\n",
            " |-- cost: string (nullable = true)\n",
            " |-- vendor: string (nullable = true)\n",
            "\n"
          ]
        }
      ],
      "source": [
        "df_with_new_columns.printSchema()"
      ]
    },
    {
      "cell_type": "code",
      "execution_count": 10,
      "metadata": {
        "id": "tiBRD9MUXOIP"
      },
      "outputs": [],
      "source": [
        "final_df = df_with_new_columns.drop(\"text\")"
      ]
    },
    {
      "cell_type": "code",
      "execution_count": 16,
      "metadata": {
        "id": "oefVVlGfXZJt"
      },
      "outputs": [],
      "source": [
        "final_df.write.csv(\"extracted.csv\")"
      ]
    },
    {
      "cell_type": "code",
      "execution_count": 17,
      "metadata": {
        "colab": {
          "base_uri": "https://localhost:8080/"
        },
        "id": "hHqUsiQjXjJ9",
        "outputId": "c25239c3-342e-469d-aa05-6b48b8a5b976"
      },
      "outputs": [
        {
          "name": "stdout",
          "output_type": "stream",
          "text": [
            "total 664\n",
            "drwxr-xr-x 2 sangwon sangwon   4096 Jun 20 01:42 extracted.csv\n",
            "-rw-r--r-- 1 sangwon sangwon  26357 Jun 20 01:38 PySpark_DataFrame_2.ipynb\n",
            "drwxr-xr-x 2 sangwon sangwon   4096 Jun 20 01:38 spark-warehouse\n",
            "-rw-r--r-- 1 sangwon sangwon  32855 Jun 20 01:30 PySpark_DataFrame_1.ipynb\n",
            "-rw-r--r-- 1 sangwon sangwon  13964 Jun 20 01:17 PySpark_DataFrame_3.ipynb\n",
            "-rw-r--r-- 1 sangwon sangwon  31613 Jun 20 01:17 PySpark_DataFrame_4.ipynb\n",
            "-rw-r--r-- 1 sangwon sangwon  21447 Jun 20 01:17 PySpark_DataFrame_5.ipynb\n",
            "-rw-r--r-- 1 sangwon sangwon  26539 Jun 20 01:17 PySpark_설치_및_테스트.ipynb\n",
            "-rw-r--r-- 1 sangwon sangwon 286779 Apr 25  2022 transfer_cost.txt\n",
            "-rw-r--r-- 1 sangwon sangwon 146855 Apr 10  2022 customer-orders.csv\n",
            "-rw-r--r-- 1 sangwon sangwon  62728 Apr 10  2022 1800.csv\n"
          ]
        }
      ],
      "source": [
        "!ls -tl"
      ]
    },
    {
      "cell_type": "code",
      "execution_count": 18,
      "metadata": {
        "colab": {
          "base_uri": "https://localhost:8080/"
        },
        "id": "TGUG9GqwX5a6",
        "outputId": "a475f9a7-3d6f-4cbf-ccc8-b99dc789861d"
      },
      "outputs": [
        {
          "name": "stdout",
          "output_type": "stream",
          "text": [
            "total 156\n",
            "-rw-r--r-- 1 sangwon sangwon      0 Jun 20 01:42 _SUCCESS\n",
            "-rw-r--r-- 1 sangwon sangwon 156423 Jun 20 01:42 part-00000-1c53739d-409a-40b4-bfbb-a5644f5f1826-c000.csv\n"
          ]
        }
      ],
      "source": [
        "!ls -tl extracted.csv/"
      ]
    },
    {
      "cell_type": "code",
      "execution_count": 19,
      "metadata": {
        "colab": {
          "base_uri": "https://localhost:8080/"
        },
        "id": "80dsZkBhX-a6",
        "outputId": "dd7ad669-4d61-4f25-9ef1-7e374d072976"
      },
      "outputs": [
        {
          "name": "stdout",
          "output_type": "stream",
          "text": [
            "2021-01-04,85001,85002,$28.32,ABC Hauling\n",
            "2021-01-04,85001,85004,$25.68,ABC Hauling\n",
            "2021-01-04,85001,85007,19.86,ABC Hauling\n",
            "2021-01-04,85001,85007,20.52,Haul Today\n",
            "2021-01-04,85001,85010,20.72,Haul Today\n"
          ]
        }
      ],
      "source": [
        "!head -5 extracted.csv/part-00000-1c53739d-409a-40b4-bfbb-a5644f5f1826-c000.csv"
      ]
    },
    {
      "cell_type": "code",
      "execution_count": 20,
      "metadata": {
        "id": "c6qT4c_LYMj4"
      },
      "outputs": [],
      "source": [
        "final_df.write.format(\"json\").save(\"extracted.json\")"
      ]
    },
    {
      "cell_type": "code",
      "execution_count": 21,
      "metadata": {
        "colab": {
          "base_uri": "https://localhost:8080/"
        },
        "id": "Y8K6JprsYSwF",
        "outputId": "f0481e89-7eef-4e9b-96fa-14c4c132bbb8"
      },
      "outputs": [
        {
          "name": "stdout",
          "output_type": "stream",
          "text": [
            "total 428\n",
            "-rw-r--r-- 1 sangwon sangwon      0 Jun 20 01:43 _SUCCESS\n",
            "-rw-r--r-- 1 sangwon sangwon 436305 Jun 20 01:43 part-00000-3c67d891-88d0-418f-b520-6a8170356eaf-c000.json\n"
          ]
        }
      ],
      "source": [
        "!ls -tl extracted.json/"
      ]
    },
    {
      "cell_type": "code",
      "execution_count": 22,
      "metadata": {
        "colab": {
          "base_uri": "https://localhost:8080/"
        },
        "id": "C-j9yCXzYVvA",
        "outputId": "4617ecc2-5141-424e-f987-1fd0fc66dff6"
      },
      "outputs": [
        {
          "name": "stdout",
          "output_type": "stream",
          "text": [
            "{\"week\":\"2021-01-04\",\"departure_zipcode\":\"85001\",\"arrival_zipcode\":\"85002\",\"cost\":\"$28.32\",\"vendor\":\"ABC Hauling\"}\n"
          ]
        }
      ],
      "source": [
        "!head -1 extracted.json/part-00000-3c67d891-88d0-418f-b520-6a8170356eaf-c000.json"
      ]
    }
  ],
  "metadata": {
    "colab": {
      "provenance": []
    },
    "kernelspec": {
      "display_name": "Python 3",
      "name": "python3"
    },
    "language_info": {
      "codemirror_mode": {
        "name": "ipython",
        "version": 3
      },
      "file_extension": ".py",
      "mimetype": "text/x-python",
      "name": "python",
      "nbconvert_exporter": "python",
      "pygments_lexer": "ipython3",
      "version": "3.10.12"
    }
  },
  "nbformat": 4,
  "nbformat_minor": 0
}
