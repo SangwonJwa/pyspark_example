{
  "cells": [
    {
      "cell_type": "markdown",
      "metadata": {
        "id": "Efh-3P4StVBg"
      },
      "source": [
        "## PySpark 설치"
      ]
    },
    {
      "cell_type": "code",
      "execution_count": 1,
      "metadata": {
        "colab": {
          "base_uri": "https://localhost:8080/"
        },
        "id": "NbT0rpGfVdiq",
        "outputId": "5392f7cb-aa47-4c40-bca1-de29e9381be0"
      },
      "outputs": [
        {
          "name": "stdout",
          "output_type": "stream",
          "text": [
            "Defaulting to user installation because normal site-packages is not writeable\n",
            "Requirement already satisfied: pyspark==3.5.1 in /home/sangwon/.local/lib/python3.10/site-packages (3.5.1)\n",
            "Requirement already satisfied: py4j==0.10.9.7 in /home/sangwon/.local/lib/python3.10/site-packages (0.10.9.7)\n"
          ]
        }
      ],
      "source": [
        "!pip install pyspark==3.5.1 py4j==0.10.9.7 "
      ]
    },
    {
      "cell_type": "code",
      "execution_count": 2,
      "metadata": {
        "colab": {
          "base_uri": "https://localhost:8080/"
        },
        "id": "OdTTZZqVA0Xa",
        "outputId": "894b3260-74dc-4ec1-a5ed-dd9f57e83ce0"
      },
      "outputs": [
        {
          "name": "stdout",
          "output_type": "stream",
          "text": [
            "--2024-06-22 00:22:18--  https://s3.amazonaws.com/redshift-downloads/drivers/jdbc/2.1.0.14/redshift-jdbc42-2.1.0.14.jar\n",
            "Resolving s3.amazonaws.com (s3.amazonaws.com)... 52.216.212.16, 52.217.206.112, 16.182.66.8, ...\n",
            "Connecting to s3.amazonaws.com (s3.amazonaws.com)|52.216.212.16|:443... connected.\n",
            "HTTP request sent, awaiting response... 200 OK\n",
            "Length: 1048241 (1024K) [binary/octet-stream]\n",
            "Saving to: ‘redshift-jdbc42-2.1.0.14.jar.6’\n",
            "\n",
            "redshift-jdbc42-2.1 100%[===================>]   1024K   812KB/s    in 1.3s    \n",
            "\n",
            "2024-06-22 00:22:20 (812 KB/s) - ‘redshift-jdbc42-2.1.0.14.jar.6’ saved [1048241/1048241]\n",
            "\n"
          ]
        }
      ],
      "source": [
        "!cd /home/sangwon/.local/lib/python3.10/site-packages/pyspark/jars && wget https://s3.amazonaws.com/redshift-downloads/drivers/jdbc/2.1.0.14/redshift-jdbc42-2.1.0.14.jar"
      ]
    },
    {
      "cell_type": "code",
      "execution_count": 3,
      "metadata": {
        "id": "3vm6tgcPXdnR"
      },
      "outputs": [
        {
          "name": "stderr",
          "output_type": "stream",
          "text": [
            "your 131072x1 screen size is bogus. expect trouble\n",
            "24/06/22 00:22:26 WARN Utils: Your hostname, LAPTOP-8CK94L0D resolves to a loopback address: 127.0.1.1; using 172.21.9.191 instead (on interface eth0)\n",
            "24/06/22 00:22:26 WARN Utils: Set SPARK_LOCAL_IP if you need to bind to another address\n",
            "24/06/22 00:22:28 WARN NativeCodeLoader: Unable to load native-hadoop library for your platform... using builtin-java classes where applicable\n",
            "Setting default log level to \"WARN\".\n",
            "To adjust logging level use sc.setLogLevel(newLevel). For SparkR, use setLogLevel(newLevel).\n"
          ]
        }
      ],
      "source": [
        "from pyspark.sql import SparkSession\n",
        "\n",
        "spark = SparkSession \\\n",
        "    .builder \\\n",
        "    .appName(\"Python Spark SQL #1\") \\\n",
        "    .config(\"spark.jars\", \"/home/sangwon/.local/lib/python3.10/site-packages/pyspark/jars/redshift-jdbc42-2.1.0.14.jar\") \\\n",
        "    .getOrCreate()"
      ]
    },
    {
      "cell_type": "markdown",
      "metadata": {
        "id": "ElawwmWzcylW"
      },
      "source": [
        "## Redshift 상의 다음 테이블을 이용하여 월별 채널별 매출과 방문자 정보 계산하기\n",
        "user_session_channel, session_timestamp, session_transaction"
      ]
    },
    {
      "cell_type": "code",
      "execution_count": 4,
      "metadata": {
        "id": "EEaNuN3xKNXm"
      },
      "outputs": [],
      "source": [
        "# Redshift와 연결해서 DataFrame으로 로딩하기\n",
        "url = \"jdbc:redshift://learnde.cduaw970ssvt.ap-northeast-2.redshift.amazonaws.com:5439/dev?user=guest&password=Guest1234\"\n",
        "\n",
        "df_user_session_channel = spark.read \\\n",
        "    .format(\"jdbc\") \\\n",
        "    .option(\"driver\", \"com.amazon.redshift.jdbc42.Driver\") \\\n",
        "    .option(\"url\", url) \\\n",
        "    .option(\"dbtable\", \"raw_data.user_session_channel\") \\\n",
        "    .load()\n",
        "\n",
        "df_session_timestamp = spark.read \\\n",
        "    .format(\"jdbc\") \\\n",
        "    .option(\"driver\", \"com.amazon.redshift.jdbc42.Driver\") \\\n",
        "    .option(\"url\", url) \\\n",
        "    .option(\"dbtable\", \"raw_data.session_timestamp\") \\\n",
        "    .load()\n",
        "\n",
        "df_session_transaction = spark.read \\\n",
        "    .format(\"jdbc\") \\\n",
        "    .option(\"driver\", \"com.amazon.redshift.jdbc42.Driver\") \\\n",
        "    .option(\"url\", url) \\\n",
        "    .option(\"dbtable\", \"raw_data.session_transaction\") \\\n",
        "    .load()"
      ]
    },
    {
      "cell_type": "code",
      "execution_count": 5,
      "metadata": {
        "id": "AjcT5LWi7_B5"
      },
      "outputs": [],
      "source": [
        "df_user_session_channel.createOrReplaceTempView(\"user_session_channel\")\n",
        "df_session_timestamp.createOrReplaceTempView(\"session_timestamp\")\n",
        "df_session_transaction.createOrReplaceTempView(\"session_transaction\")"
      ]
    },
    {
      "cell_type": "code",
      "execution_count": 6,
      "metadata": {
        "colab": {
          "base_uri": "https://localhost:8080/"
        },
        "id": "f3UxHdoLC5Bt",
        "outputId": "a3547556-3f92-43fa-d7e6-f6086a6ddc13"
      },
      "outputs": [
        {
          "name": "stderr",
          "output_type": "stream",
          "text": [
            "                                                                                \r"
          ]
        },
        {
          "name": "stdout",
          "output_type": "stream",
          "text": [
            "+------+--------------------+-------+\n",
            "|userid|           sessionid|channel|\n",
            "+------+--------------------+-------+\n",
            "|  1491|00029153d12ae1c9a...|Organic|\n",
            "|    59|0002ac0d783338cfe...|  Naver|\n",
            "|   117|0006246bee639c7a7...|Youtube|\n",
            "|   572|0006dd05ea1e999dd...|Organic|\n",
            "|   935|0007cda84fafdcf42...| Google|\n",
            "+------+--------------------+-------+\n",
            "only showing top 5 rows\n",
            "\n"
          ]
        }
      ],
      "source": [
        "df_user_session_channel.show(5)"
      ]
    },
    {
      "cell_type": "code",
      "execution_count": 7,
      "metadata": {
        "colab": {
          "base_uri": "https://localhost:8080/"
        },
        "id": "T9lIcukADIgk",
        "outputId": "13e8be2a-dc49-4231-e864-dd5c4cf617fa"
      },
      "outputs": [
        {
          "name": "stdout",
          "output_type": "stream",
          "text": [
            "+--------------------+--------------------+\n",
            "|           sessionid|                  ts|\n",
            "+--------------------+--------------------+\n",
            "|0002ac0d783338cfe...|2019-07-29 12:39:...|\n",
            "|00053f5e11d1fe4e4...|2019-06-24 13:04:...|\n",
            "|00056c20eb5a02958...| 2019-09-26 14:50:17|\n",
            "|00063cb5da1826feb...|2019-10-16 14:04:...|\n",
            "|0007cda84fafdcf42...|2019-05-22 08:02:...|\n",
            "+--------------------+--------------------+\n",
            "only showing top 5 rows\n",
            "\n"
          ]
        }
      ],
      "source": [
        "df_session_timestamp.show(5)"
      ]
    },
    {
      "cell_type": "code",
      "execution_count": 8,
      "metadata": {
        "colab": {
          "base_uri": "https://localhost:8080/"
        },
        "id": "vwiwGeXRDNk2",
        "outputId": "5b479434-d711-44ff-b926-28b1d7f503de"
      },
      "outputs": [
        {
          "name": "stdout",
          "output_type": "stream",
          "text": [
            "+--------------------+--------+------+\n",
            "|           sessionid|refunded|amount|\n",
            "+--------------------+--------+------+\n",
            "|00029153d12ae1c9a...|   false|    85|\n",
            "|008909bd27b680698...|   false|    13|\n",
            "|0107acb41ef20db22...|   false|    16|\n",
            "|018544a2c48077d2c...|   false|    39|\n",
            "|020c38173caff0203...|   false|    61|\n",
            "+--------------------+--------+------+\n",
            "only showing top 5 rows\n",
            "\n"
          ]
        }
      ],
      "source": [
        "df_session_transaction.show(5)"
      ]
    },
    {
      "cell_type": "markdown",
      "metadata": {
        "id": "J2tg1Myi8Q5I"
      },
      "source": [
        "## 총 매출이 가장 많은 사용자 10명 찾기"
      ]
    },
    {
      "cell_type": "code",
      "execution_count": 9,
      "metadata": {
        "id": "GdiSxs1030G0"
      },
      "outputs": [],
      "source": [
        "top_rev_user_df = spark.sql(\"\"\"\n",
        "    SELECT userid,\n",
        "        SUM(str.amount) revenue,\n",
        "        SUM(CASE WHEN str.refunded = False THEN str.amount END) net_revenue\n",
        "    FROM user_session_channel usc\n",
        "    JOIN session_transaction str ON usc.sessionid = str.sessionid\n",
        "    GROUP BY 1\n",
        "    ORDER BY 2 DESC\n",
        "    LIMIT 10\"\"\")"
      ]
    },
    {
      "cell_type": "code",
      "execution_count": 10,
      "metadata": {
        "colab": {
          "base_uri": "https://localhost:8080/"
        },
        "id": "whIte26D63hG",
        "outputId": "37c3590c-2a8e-4268-911b-06f43d1f8d79"
      },
      "outputs": [
        {
          "name": "stderr",
          "output_type": "stream",
          "text": [
            "[Stage 8:>                                                          (0 + 3) / 3]\r"
          ]
        },
        {
          "name": "stdout",
          "output_type": "stream",
          "text": [
            "+------+-------+-----------+\n",
            "|userid|revenue|net_revenue|\n",
            "+------+-------+-----------+\n",
            "|   989|    743|        743|\n",
            "|   772|    556|        556|\n",
            "|  1615|    506|        506|\n",
            "|   654|    488|        488|\n",
            "|  1651|    463|        463|\n",
            "|   973|    438|        438|\n",
            "|   262|    422|        422|\n",
            "|  1099|    421|        343|\n",
            "|  2682|    414|        414|\n",
            "|   891|    412|        412|\n",
            "+------+-------+-----------+\n",
            "\n"
          ]
        },
        {
          "name": "stderr",
          "output_type": "stream",
          "text": [
            "                                                                                \r"
          ]
        }
      ],
      "source": [
        "top_rev_user_df.show()"
      ]
    },
    {
      "cell_type": "code",
      "execution_count": 11,
      "metadata": {
        "id": "W7JRcaAnbCHu"
      },
      "outputs": [],
      "source": [
        "top_rev_user_df2 = spark.sql(\"\"\"\n",
        "SELECT\n",
        "  userid,\n",
        "  SUM(amount) total_amount, \n",
        " \tRANK() OVER (ORDER BY SUM(amount) DESC) rank\n",
        "FROM session_transaction st\n",
        "JOIN user_session_channel usc ON st.sessionid = usc.sessionid\n",
        "GROUP\tBY userid\n",
        "ORDER BY rank\n",
        "LIMIT 10\"\"\")"
      ]
    },
    {
      "cell_type": "code",
      "execution_count": 13,
      "metadata": {
        "colab": {
          "base_uri": "https://localhost:8080/"
        },
        "id": "C50aAfvibpao",
        "outputId": "d734a220-2dd8-40dc-fb6c-2ba7ea7c10fd"
      },
      "outputs": [
        {
          "name": "stderr",
          "output_type": "stream",
          "text": [
            "24/06/22 00:25:25 WARN WindowExec: No Partition Defined for Window operation! Moving all data to a single partition, this can cause serious performance degradation.\n",
            "24/06/22 00:25:25 WARN WindowExec: No Partition Defined for Window operation! Moving all data to a single partition, this can cause serious performance degradation.\n",
            "24/06/22 00:25:25 WARN WindowExec: No Partition Defined for Window operation! Moving all data to a single partition, this can cause serious performance degradation.\n",
            "24/06/22 00:25:26 WARN WindowExec: No Partition Defined for Window operation! Moving all data to a single partition, this can cause serious performance degradation.\n",
            "24/06/22 00:25:26 WARN WindowExec: No Partition Defined for Window operation! Moving all data to a single partition, this can cause serious performance degradation.\n",
            "24/06/22 00:25:26 WARN WindowExec: No Partition Defined for Window operation! Moving all data to a single partition, this can cause serious performance degradation.\n",
            "24/06/22 00:25:26 WARN WindowExec: No Partition Defined for Window operation! Moving all data to a single partition, this can cause serious performance degradation.\n",
            "24/06/22 00:25:26 WARN WindowExec: No Partition Defined for Window operation! Moving all data to a single partition, this can cause serious performance degradation.\n",
            "24/06/22 00:25:26 WARN WindowExec: No Partition Defined for Window operation! Moving all data to a single partition, this can cause serious performance degradation.\n",
            "24/06/22 00:25:26 WARN WindowExec: No Partition Defined for Window operation! Moving all data to a single partition, this can cause serious performance degradation.\n",
            "24/06/22 00:25:26 WARN WindowExec: No Partition Defined for Window operation! Moving all data to a single partition, this can cause serious performance degradation.\n",
            "24/06/22 00:25:26 WARN WindowExec: No Partition Defined for Window operation! Moving all data to a single partition, this can cause serious performance degradation.\n",
            "24/06/22 00:25:26 WARN WindowExec: No Partition Defined for Window operation! Moving all data to a single partition, this can cause serious performance degradation.\n"
          ]
        },
        {
          "name": "stdout",
          "output_type": "stream",
          "text": [
            "+------+------------+----+\n",
            "|userid|total_amount|rank|\n",
            "+------+------------+----+\n",
            "|   989|         743|   1|\n",
            "|   772|         556|   2|\n",
            "|  1615|         506|   3|\n",
            "|   654|         488|   4|\n",
            "|  1651|         463|   5|\n",
            "|   973|         438|   6|\n",
            "|   262|         422|   7|\n",
            "|  1099|         421|   8|\n",
            "|  2682|         414|   9|\n",
            "|   891|         412|  10|\n",
            "+------+------------+----+\n",
            "\n"
          ]
        }
      ],
      "source": [
        "top_rev_user_df2.show()"
      ]
    }
  ],
  "metadata": {
    "colab": {
      "provenance": []
    },
    "kernelspec": {
      "display_name": "Python 3",
      "name": "python3"
    },
    "language_info": {
      "codemirror_mode": {
        "name": "ipython",
        "version": 3
      },
      "file_extension": ".py",
      "mimetype": "text/x-python",
      "name": "python",
      "nbconvert_exporter": "python",
      "pygments_lexer": "ipython3",
      "version": "3.10.12"
    }
  },
  "nbformat": 4,
  "nbformat_minor": 0
}
