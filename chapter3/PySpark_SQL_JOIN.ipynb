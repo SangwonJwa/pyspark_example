{
  "cells": [
    {
      "cell_type": "markdown",
      "metadata": {
        "id": "Efh-3P4StVBg"
      },
      "source": [
        "## PySpark 설치"
      ]
    },
    {
      "cell_type": "code",
      "execution_count": 1,
      "metadata": {
        "colab": {
          "base_uri": "https://localhost:8080/"
        },
        "id": "NbT0rpGfVdiq",
        "outputId": "2a8e7fbc-a270-4541-da3b-c1f8d167a905"
      },
      "outputs": [
        {
          "name": "stdout",
          "output_type": "stream",
          "text": [
            "Defaulting to user installation because normal site-packages is not writeable\n",
            "Requirement already satisfied: pyspark==3.5.1 in /home/sangwon/.local/lib/python3.10/site-packages (3.5.1)\n",
            "Requirement already satisfied: py4j==0.10.9.7 in /home/sangwon/.local/lib/python3.10/site-packages (0.10.9.7)\n"
          ]
        }
      ],
      "source": [
        "!pip install pyspark==3.5.1 py4j==0.10.9.7"
      ]
    },
    {
      "cell_type": "code",
      "execution_count": 2,
      "metadata": {
        "id": "3vm6tgcPXdnR"
      },
      "outputs": [
        {
          "name": "stderr",
          "output_type": "stream",
          "text": [
            "your 131072x1 screen size is bogus. expect trouble\n",
            "24/06/21 23:47:23 WARN Utils: Your hostname, LAPTOP-8CK94L0D resolves to a loopback address: 127.0.1.1; using 172.21.9.191 instead (on interface eth0)\n",
            "24/06/21 23:47:23 WARN Utils: Set SPARK_LOCAL_IP if you need to bind to another address\n",
            "Setting default log level to \"WARN\".\n",
            "To adjust logging level use sc.setLogLevel(newLevel). For SparkR, use setLogLevel(newLevel).\n",
            "24/06/21 23:47:25 WARN NativeCodeLoader: Unable to load native-hadoop library for your platform... using builtin-java classes where applicable\n",
            "24/06/21 23:47:26 WARN Utils: Service 'SparkUI' could not bind on port 4040. Attempting port 4041.\n"
          ]
        }
      ],
      "source": [
        "from pyspark.sql import SparkSession\n",
        "\n",
        "spark = SparkSession \\\n",
        "    .builder \\\n",
        "    .appName(\"Python Spark SQL #1\") \\\n",
        "    .getOrCreate()"
      ]
    },
    {
      "cell_type": "markdown",
      "metadata": {
        "id": "d3Qhs8MwuCS1"
      },
      "source": [
        "## 조인 실습 테이블 2개 로딩"
      ]
    },
    {
      "cell_type": "code",
      "execution_count": 3,
      "metadata": {
        "id": "npw3MGoWuFH8"
      },
      "outputs": [],
      "source": [
        "vital = [\n",
        "     { 'UserID': 100, 'VitalID': 1, 'Date': '2020-01-01', 'Weight': 75 },\n",
        "     { 'UserID': 100, 'VitalID': 2, 'Date': '2020-01-02', 'Weight': 78 },\n",
        "     { 'UserID': 101, 'VitalID': 3, 'Date': '2020-01-01', 'Weight': 90 },\n",
        "     { 'UserID': 101, 'VitalID': 4, 'Date': '2020-01-02', 'Weight': 95 },\n",
        "]\n",
        "\n",
        "alert = [\n",
        "    { 'AlertID': 1, 'VitalID': 4, 'AlertType': 'WeightIncrease', 'Date': '2020-01-01', 'UserID': 101},\n",
        "    { 'AlertID': 2, 'VitalID': None, 'AlertType': 'MissingVital', 'Date': '2020-01-04', 'UserID': 100},\n",
        "    { 'AlertID': 3, 'VitalID': None, 'AlertType': 'MissingVital', 'Date': '2020-01-05', 'UserID': 101}\n",
        "]"
      ]
    },
    {
      "cell_type": "code",
      "execution_count": 4,
      "metadata": {
        "id": "nF8YM6K1u9u8"
      },
      "outputs": [],
      "source": [
        "rdd_vital = spark.sparkContext.parallelize(vital)\n",
        "rdd_alert = spark.sparkContext.parallelize(alert)"
      ]
    },
    {
      "cell_type": "code",
      "execution_count": 5,
      "metadata": {
        "id": "MHjArqA72U1h"
      },
      "outputs": [
        {
          "name": "stderr",
          "output_type": "stream",
          "text": [
            "                                                                                \r"
          ]
        }
      ],
      "source": [
        "df_vital = rdd_vital.toDF()\n",
        "df_alert = rdd_alert.toDF()"
      ]
    },
    {
      "cell_type": "code",
      "execution_count": 6,
      "metadata": {
        "colab": {
          "base_uri": "https://localhost:8080/"
        },
        "id": "sZBsD0V62nGO",
        "outputId": "a216a61e-6ed1-4ebc-87c4-d3c78f89b5d6"
      },
      "outputs": [
        {
          "name": "stdout",
          "output_type": "stream",
          "text": [
            "root\n",
            " |-- Date: string (nullable = true)\n",
            " |-- UserID: long (nullable = true)\n",
            " |-- VitalID: long (nullable = true)\n",
            " |-- Weight: long (nullable = true)\n",
            "\n"
          ]
        }
      ],
      "source": [
        "df_vital.printSchema()"
      ]
    },
    {
      "cell_type": "code",
      "execution_count": 7,
      "metadata": {
        "colab": {
          "base_uri": "https://localhost:8080/"
        },
        "id": "cAolvJH1vyWb",
        "outputId": "d019ff2d-9cb1-4ba8-e323-9367314e30ad"
      },
      "outputs": [
        {
          "name": "stdout",
          "output_type": "stream",
          "text": [
            "root\n",
            " |-- AlertID: long (nullable = true)\n",
            " |-- AlertType: string (nullable = true)\n",
            " |-- Date: string (nullable = true)\n",
            " |-- UserID: long (nullable = true)\n",
            " |-- VitalID: long (nullable = true)\n",
            "\n"
          ]
        }
      ],
      "source": [
        "df_alert.printSchema()"
      ]
    },
    {
      "cell_type": "markdown",
      "metadata": {
        "id": "N7s1BEG529k0"
      },
      "source": [
        "## JOIN by DataFrame"
      ]
    },
    {
      "cell_type": "code",
      "execution_count": 8,
      "metadata": {
        "colab": {
          "base_uri": "https://localhost:8080/"
        },
        "id": "fXM54Q6D29Ed",
        "outputId": "810c8bcd-076a-4d21-8c32-ecc157b84816"
      },
      "outputs": [
        {
          "name": "stderr",
          "output_type": "stream",
          "text": [
            "                                                                                \r"
          ]
        },
        {
          "name": "stdout",
          "output_type": "stream",
          "text": [
            "+----------+------+-------+------+-------+--------------+----------+------+-------+\n",
            "|      Date|UserID|VitalID|Weight|AlertID|     AlertType|      Date|UserID|VitalID|\n",
            "+----------+------+-------+------+-------+--------------+----------+------+-------+\n",
            "|2020-01-02|   101|      4|    95|      1|WeightIncrease|2020-01-01|   101|      4|\n",
            "+----------+------+-------+------+-------+--------------+----------+------+-------+\n",
            "\n"
          ]
        }
      ],
      "source": [
        "# INNER JOIN\n",
        "join_expr = df_vital.VitalID == df_alert.VitalID\n",
        "df_vital.join(df_alert, join_expr, \"inner\").show()"
      ]
    },
    {
      "cell_type": "code",
      "execution_count": 9,
      "metadata": {
        "colab": {
          "base_uri": "https://localhost:8080/"
        },
        "id": "a4d7hLVr5A_y",
        "outputId": "f1877d6c-68c5-4ec4-aee8-5bd466ccddc8"
      },
      "outputs": [
        {
          "name": "stderr",
          "output_type": "stream",
          "text": [
            "                                                                                \r"
          ]
        },
        {
          "name": "stdout",
          "output_type": "stream",
          "text": [
            "+----------+------+-------+------+-------+--------------+----------+------+-------+\n",
            "|      Date|UserID|VitalID|Weight|AlertID|     AlertType|      Date|UserID|VitalID|\n",
            "+----------+------+-------+------+-------+--------------+----------+------+-------+\n",
            "|2020-01-01|   100|      1|    75|   NULL|          NULL|      NULL|  NULL|   NULL|\n",
            "|2020-01-02|   100|      2|    78|   NULL|          NULL|      NULL|  NULL|   NULL|\n",
            "|2020-01-01|   101|      3|    90|   NULL|          NULL|      NULL|  NULL|   NULL|\n",
            "|2020-01-02|   101|      4|    95|      1|WeightIncrease|2020-01-01|   101|      4|\n",
            "+----------+------+-------+------+-------+--------------+----------+------+-------+\n",
            "\n"
          ]
        }
      ],
      "source": [
        "# LEFT JOIN\n",
        "join_expr = df_vital.VitalID == df_alert.VitalID\n",
        "df_vital.join(df_alert, join_expr, \"left\").show()"
      ]
    },
    {
      "cell_type": "code",
      "execution_count": 10,
      "metadata": {
        "colab": {
          "base_uri": "https://localhost:8080/"
        },
        "id": "nqJCVWPw5H6A",
        "outputId": "30c8f8f4-73dd-4513-9b58-b35680b0ed54"
      },
      "outputs": [
        {
          "name": "stderr",
          "output_type": "stream",
          "text": [
            "                                                                                \r"
          ]
        },
        {
          "name": "stdout",
          "output_type": "stream",
          "text": [
            "+----------+------+-------+------+-------+--------------+----------+------+-------+\n",
            "|      Date|UserID|VitalID|Weight|AlertID|     AlertType|      Date|UserID|VitalID|\n",
            "+----------+------+-------+------+-------+--------------+----------+------+-------+\n",
            "|2020-01-02|   101|      4|    95|      1|WeightIncrease|2020-01-01|   101|      4|\n",
            "|      NULL|  NULL|   NULL|  NULL|      2|  MissingVital|2020-01-04|   100|   NULL|\n",
            "|      NULL|  NULL|   NULL|  NULL|      3|  MissingVital|2020-01-05|   101|   NULL|\n",
            "+----------+------+-------+------+-------+--------------+----------+------+-------+\n",
            "\n"
          ]
        }
      ],
      "source": [
        "# RIGHT JOIN\n",
        "join_expr = df_vital.VitalID == df_alert.VitalID\n",
        "df_vital.join(df_alert, join_expr, \"right\").show()"
      ]
    },
    {
      "cell_type": "code",
      "execution_count": 11,
      "metadata": {
        "colab": {
          "base_uri": "https://localhost:8080/"
        },
        "id": "dySkJObl5KVU",
        "outputId": "c87ff187-34e5-427f-8b77-9ff2369bf45b"
      },
      "outputs": [
        {
          "name": "stderr",
          "output_type": "stream",
          "text": [
            "[Stage 22:=============================>                            (4 + 4) / 8]\r"
          ]
        },
        {
          "name": "stdout",
          "output_type": "stream",
          "text": [
            "+----------+------+-------+------+-------+--------------+----------+------+-------+\n",
            "|      Date|UserID|VitalID|Weight|AlertID|     AlertType|      Date|UserID|VitalID|\n",
            "+----------+------+-------+------+-------+--------------+----------+------+-------+\n",
            "|      NULL|  NULL|   NULL|  NULL|      2|  MissingVital|2020-01-04|   100|   NULL|\n",
            "|      NULL|  NULL|   NULL|  NULL|      3|  MissingVital|2020-01-05|   101|   NULL|\n",
            "|2020-01-01|   100|      1|    75|   NULL|          NULL|      NULL|  NULL|   NULL|\n",
            "|2020-01-02|   100|      2|    78|   NULL|          NULL|      NULL|  NULL|   NULL|\n",
            "|2020-01-01|   101|      3|    90|   NULL|          NULL|      NULL|  NULL|   NULL|\n",
            "|2020-01-02|   101|      4|    95|      1|WeightIncrease|2020-01-01|   101|      4|\n",
            "+----------+------+-------+------+-------+--------------+----------+------+-------+\n",
            "\n"
          ]
        },
        {
          "name": "stderr",
          "output_type": "stream",
          "text": [
            "                                                                                \r"
          ]
        }
      ],
      "source": [
        "# FULL OUTER JOIN\n",
        "join_expr = df_vital.VitalID == df_alert.VitalID\n",
        "df_vital.join(df_alert, join_expr, \"full\").show()"
      ]
    },
    {
      "cell_type": "code",
      "execution_count": 12,
      "metadata": {
        "colab": {
          "base_uri": "https://localhost:8080/"
        },
        "id": "d43BHiaI5OJC",
        "outputId": "2b07dd1f-b756-4437-a595-95d3c0e71a90"
      },
      "outputs": [
        {
          "name": "stderr",
          "output_type": "stream",
          "text": [
            "[Stage 29:=============================================>          (32 + 7) / 39]\r"
          ]
        },
        {
          "name": "stdout",
          "output_type": "stream",
          "text": [
            "+----------+------+-------+------+-------+--------------+----------+------+-------+\n",
            "|      Date|UserID|VitalID|Weight|AlertID|     AlertType|      Date|UserID|VitalID|\n",
            "+----------+------+-------+------+-------+--------------+----------+------+-------+\n",
            "|2020-01-01|   100|      1|    75|      1|WeightIncrease|2020-01-01|   101|      4|\n",
            "|2020-01-01|   100|      1|    75|      2|  MissingVital|2020-01-04|   100|   NULL|\n",
            "|2020-01-01|   100|      1|    75|      3|  MissingVital|2020-01-05|   101|   NULL|\n",
            "|2020-01-02|   100|      2|    78|      1|WeightIncrease|2020-01-01|   101|      4|\n",
            "|2020-01-02|   100|      2|    78|      2|  MissingVital|2020-01-04|   100|   NULL|\n",
            "|2020-01-02|   100|      2|    78|      3|  MissingVital|2020-01-05|   101|   NULL|\n",
            "|2020-01-01|   101|      3|    90|      1|WeightIncrease|2020-01-01|   101|      4|\n",
            "|2020-01-01|   101|      3|    90|      2|  MissingVital|2020-01-04|   100|   NULL|\n",
            "|2020-01-01|   101|      3|    90|      3|  MissingVital|2020-01-05|   101|   NULL|\n",
            "|2020-01-02|   101|      4|    95|      1|WeightIncrease|2020-01-01|   101|      4|\n",
            "|2020-01-02|   101|      4|    95|      2|  MissingVital|2020-01-04|   100|   NULL|\n",
            "|2020-01-02|   101|      4|    95|      3|  MissingVital|2020-01-05|   101|   NULL|\n",
            "+----------+------+-------+------+-------+--------------+----------+------+-------+\n",
            "\n"
          ]
        },
        {
          "name": "stderr",
          "output_type": "stream",
          "text": [
            "                                                                                \r"
          ]
        }
      ],
      "source": [
        "# CROSS JOIN\n",
        "df_vital.join(df_alert, None, \"cross\").show()"
      ]
    },
    {
      "cell_type": "code",
      "execution_count": 13,
      "metadata": {
        "colab": {
          "base_uri": "https://localhost:8080/"
        },
        "id": "1fuMgCb_5Y7Z",
        "outputId": "9ee4fa8a-848b-4724-894a-ea64f4dc5f55"
      },
      "outputs": [
        {
          "name": "stderr",
          "output_type": "stream",
          "text": [
            "24/06/21 23:48:16 WARN Column: Constructing trivially true equals predicate, 'VitalID#2L = VitalID#2L'. Perhaps you need to use aliases.\n",
            "[Stage 31:====================================>                     (5 + 3) / 8]\r"
          ]
        },
        {
          "name": "stdout",
          "output_type": "stream",
          "text": [
            "+----------+------+-------+------+----------+------+-------+------+\n",
            "|      Date|UserID|VitalID|Weight|      Date|UserID|VitalID|Weight|\n",
            "+----------+------+-------+------+----------+------+-------+------+\n",
            "|2020-01-01|   100|      1|    75|2020-01-01|   100|      1|    75|\n",
            "|2020-01-02|   100|      2|    78|2020-01-02|   100|      2|    78|\n",
            "|2020-01-01|   101|      3|    90|2020-01-01|   101|      3|    90|\n",
            "|2020-01-02|   101|      4|    95|2020-01-02|   101|      4|    95|\n",
            "+----------+------+-------+------+----------+------+-------+------+\n",
            "\n"
          ]
        },
        {
          "name": "stderr",
          "output_type": "stream",
          "text": [
            "                                                                                \r"
          ]
        }
      ],
      "source": [
        "# SELF JOIN\n",
        "join_expr = df_vital.VitalID == df_vital.VitalID\n",
        "df_vital.join(df_vital, join_expr, \"left\").show()"
      ]
    },
    {
      "cell_type": "markdown",
      "metadata": {
        "id": "zChnkwWO3ClW"
      },
      "source": [
        "## JOIN by SQL"
      ]
    },
    {
      "cell_type": "code",
      "execution_count": 14,
      "metadata": {
        "id": "_8Lejetx3D8M"
      },
      "outputs": [],
      "source": [
        "df_vital.createOrReplaceTempView(\"Vital\")\n",
        "df_alert.createOrReplaceTempView(\"Alert\")"
      ]
    },
    {
      "cell_type": "code",
      "execution_count": 15,
      "metadata": {
        "colab": {
          "base_uri": "https://localhost:8080/"
        },
        "id": "t4xIAQdh3kZm",
        "outputId": "ec83022e-9f15-4037-add1-11343f2ab004"
      },
      "outputs": [
        {
          "name": "stderr",
          "output_type": "stream",
          "text": [
            "[Stage 37:===========================================>              (6 + 2) / 8]\r"
          ]
        },
        {
          "name": "stdout",
          "output_type": "stream",
          "text": [
            "+----------+------+-------+------+-------+--------------+----------+------+-------+\n",
            "|      Date|UserID|VitalID|Weight|AlertID|     AlertType|      Date|UserID|VitalID|\n",
            "+----------+------+-------+------+-------+--------------+----------+------+-------+\n",
            "|2020-01-02|   101|      4|    95|      1|WeightIncrease|2020-01-01|   101|      4|\n",
            "+----------+------+-------+------+-------+--------------+----------+------+-------+\n",
            "\n"
          ]
        },
        {
          "name": "stderr",
          "output_type": "stream",
          "text": [
            "                                                                                \r"
          ]
        }
      ],
      "source": [
        "# INNER JOIN\n",
        "df_inner_join = spark.sql(\"\"\"SELECT * FROM Vital v\n",
        "JOIN Alert a ON v.vitalID = a.vitalID;\"\"\")\n",
        "df_inner_join.show()"
      ]
    },
    {
      "cell_type": "code",
      "execution_count": 16,
      "metadata": {
        "colab": {
          "base_uri": "https://localhost:8080/"
        },
        "id": "tinySjFV34CW",
        "outputId": "9ba178b4-f00a-4dca-df31-bf200835bc88"
      },
      "outputs": [
        {
          "name": "stderr",
          "output_type": "stream",
          "text": [
            "                                                                                \r"
          ]
        },
        {
          "name": "stdout",
          "output_type": "stream",
          "text": [
            "+----------+------+-------+------+-------+--------------+----------+------+-------+\n",
            "|      Date|UserID|VitalID|Weight|AlertID|     AlertType|      Date|UserID|VitalID|\n",
            "+----------+------+-------+------+-------+--------------+----------+------+-------+\n",
            "|2020-01-01|   100|      1|    75|   NULL|          NULL|      NULL|  NULL|   NULL|\n",
            "|2020-01-02|   100|      2|    78|   NULL|          NULL|      NULL|  NULL|   NULL|\n",
            "|2020-01-01|   101|      3|    90|   NULL|          NULL|      NULL|  NULL|   NULL|\n",
            "|2020-01-02|   101|      4|    95|      1|WeightIncrease|2020-01-01|   101|      4|\n",
            "+----------+------+-------+------+-------+--------------+----------+------+-------+\n",
            "\n"
          ]
        }
      ],
      "source": [
        "# LEFT JOIN\n",
        "df_left_join = spark.sql(\"\"\"SELECT * FROM Vital v\n",
        "LEFT JOIN Alert a ON v.vitalID = a.vitalID;\"\"\")\n",
        "df_left_join.show()"
      ]
    },
    {
      "cell_type": "code",
      "execution_count": 17,
      "metadata": {
        "colab": {
          "base_uri": "https://localhost:8080/"
        },
        "id": "DOf0w4Wg3_XH",
        "outputId": "05f55912-57ba-483f-c669-60556f0a17dc"
      },
      "outputs": [
        {
          "name": "stdout",
          "output_type": "stream",
          "text": [
            "+----------+------+-------+------+-------+--------------+----------+------+-------+\n",
            "|      Date|UserID|VitalID|Weight|AlertID|     AlertType|      Date|UserID|VitalID|\n",
            "+----------+------+-------+------+-------+--------------+----------+------+-------+\n",
            "|2020-01-02|   101|      4|    95|      1|WeightIncrease|2020-01-01|   101|      4|\n",
            "|      NULL|  NULL|   NULL|  NULL|      2|  MissingVital|2020-01-04|   100|   NULL|\n",
            "|      NULL|  NULL|   NULL|  NULL|      3|  MissingVital|2020-01-05|   101|   NULL|\n",
            "+----------+------+-------+------+-------+--------------+----------+------+-------+\n",
            "\n"
          ]
        }
      ],
      "source": [
        "# RIGHT JOIN\n",
        "df_right_join = spark.sql(\"\"\"SELECT * FROM Vital v\n",
        "RIGHT JOIN Alert a ON v.vitalID = a.vitalID;\"\"\")\n",
        "df_right_join.show()"
      ]
    },
    {
      "cell_type": "code",
      "execution_count": 18,
      "metadata": {
        "colab": {
          "base_uri": "https://localhost:8080/"
        },
        "id": "KdsQg2Jv4Dcn",
        "outputId": "6dc62777-b302-49a1-8ac6-e85f41b0b4bc"
      },
      "outputs": [
        {
          "name": "stderr",
          "output_type": "stream",
          "text": [
            "[Stage 54:==================================================>       (7 + 1) / 8]\r"
          ]
        },
        {
          "name": "stdout",
          "output_type": "stream",
          "text": [
            "+----------+------+-------+------+-------+--------------+----------+------+-------+\n",
            "|      Date|UserID|VitalID|Weight|AlertID|     AlertType|      Date|UserID|VitalID|\n",
            "+----------+------+-------+------+-------+--------------+----------+------+-------+\n",
            "|      NULL|  NULL|   NULL|  NULL|      2|  MissingVital|2020-01-04|   100|   NULL|\n",
            "|      NULL|  NULL|   NULL|  NULL|      3|  MissingVital|2020-01-05|   101|   NULL|\n",
            "|2020-01-01|   100|      1|    75|   NULL|          NULL|      NULL|  NULL|   NULL|\n",
            "|2020-01-02|   100|      2|    78|   NULL|          NULL|      NULL|  NULL|   NULL|\n",
            "|2020-01-01|   101|      3|    90|   NULL|          NULL|      NULL|  NULL|   NULL|\n",
            "|2020-01-02|   101|      4|    95|      1|WeightIncrease|2020-01-01|   101|      4|\n",
            "+----------+------+-------+------+-------+--------------+----------+------+-------+\n",
            "\n"
          ]
        },
        {
          "name": "stderr",
          "output_type": "stream",
          "text": [
            "                                                                                \r"
          ]
        }
      ],
      "source": [
        "# OUTER JOIN\n",
        "df_outer_join = spark.sql(\"\"\"SELECT * FROM Vital v\n",
        "FULL JOIN Alert a ON v.vitalID = a.vitalID;\"\"\")\n",
        "df_outer_join.show()"
      ]
    },
    {
      "cell_type": "code",
      "execution_count": 19,
      "metadata": {
        "colab": {
          "base_uri": "https://localhost:8080/"
        },
        "id": "Qe5086Ai4Jx3",
        "outputId": "1d49a2af-70c3-46b3-f885-9b70b21f955d"
      },
      "outputs": [
        {
          "name": "stderr",
          "output_type": "stream",
          "text": [
            "[Stage 61:=============================================>          (32 + 7) / 39]\r"
          ]
        },
        {
          "name": "stdout",
          "output_type": "stream",
          "text": [
            "+----------+------+-------+------+-------+--------------+----------+------+-------+\n",
            "|      Date|UserID|VitalID|Weight|AlertID|     AlertType|      Date|UserID|VitalID|\n",
            "+----------+------+-------+------+-------+--------------+----------+------+-------+\n",
            "|2020-01-01|   100|      1|    75|      1|WeightIncrease|2020-01-01|   101|      4|\n",
            "|2020-01-01|   100|      1|    75|      2|  MissingVital|2020-01-04|   100|   NULL|\n",
            "|2020-01-01|   100|      1|    75|      3|  MissingVital|2020-01-05|   101|   NULL|\n",
            "|2020-01-02|   100|      2|    78|      1|WeightIncrease|2020-01-01|   101|      4|\n",
            "|2020-01-02|   100|      2|    78|      2|  MissingVital|2020-01-04|   100|   NULL|\n",
            "|2020-01-02|   100|      2|    78|      3|  MissingVital|2020-01-05|   101|   NULL|\n",
            "|2020-01-01|   101|      3|    90|      1|WeightIncrease|2020-01-01|   101|      4|\n",
            "|2020-01-01|   101|      3|    90|      2|  MissingVital|2020-01-04|   100|   NULL|\n",
            "|2020-01-01|   101|      3|    90|      3|  MissingVital|2020-01-05|   101|   NULL|\n",
            "|2020-01-02|   101|      4|    95|      1|WeightIncrease|2020-01-01|   101|      4|\n",
            "|2020-01-02|   101|      4|    95|      2|  MissingVital|2020-01-04|   100|   NULL|\n",
            "|2020-01-02|   101|      4|    95|      3|  MissingVital|2020-01-05|   101|   NULL|\n",
            "+----------+------+-------+------+-------+--------------+----------+------+-------+\n",
            "\n"
          ]
        },
        {
          "name": "stderr",
          "output_type": "stream",
          "text": [
            "                                                                                \r"
          ]
        }
      ],
      "source": [
        "# CROSS JOIN\n",
        "df_cross_join = spark.sql(\"\"\"SELECT * FROM Vital v\n",
        "CROSS JOIN Alert a\"\"\")\n",
        "df_cross_join.show()"
      ]
    },
    {
      "cell_type": "code",
      "execution_count": 20,
      "metadata": {
        "colab": {
          "base_uri": "https://localhost:8080/"
        },
        "id": "Z3VOvx3l4TF2",
        "outputId": "f48cb018-516a-46b6-efc8-133a64d85a3d"
      },
      "outputs": [
        {
          "name": "stderr",
          "output_type": "stream",
          "text": [
            "[Stage 65:===============================================>        (33 + 6) / 39]\r"
          ]
        },
        {
          "name": "stdout",
          "output_type": "stream",
          "text": [
            "+----------+------+-------+------+----------+------+-------+------+\n",
            "|      Date|UserID|VitalID|Weight|      Date|UserID|VitalID|Weight|\n",
            "+----------+------+-------+------+----------+------+-------+------+\n",
            "|2020-01-01|   100|      1|    75|2020-01-01|   100|      1|    75|\n",
            "|2020-01-01|   100|      1|    75|2020-01-02|   100|      2|    78|\n",
            "|2020-01-01|   100|      1|    75|2020-01-01|   101|      3|    90|\n",
            "|2020-01-01|   100|      1|    75|2020-01-02|   101|      4|    95|\n",
            "|2020-01-02|   100|      2|    78|2020-01-01|   100|      1|    75|\n",
            "|2020-01-02|   100|      2|    78|2020-01-02|   100|      2|    78|\n",
            "|2020-01-02|   100|      2|    78|2020-01-01|   101|      3|    90|\n",
            "|2020-01-02|   100|      2|    78|2020-01-02|   101|      4|    95|\n",
            "|2020-01-01|   101|      3|    90|2020-01-01|   100|      1|    75|\n",
            "|2020-01-01|   101|      3|    90|2020-01-02|   100|      2|    78|\n",
            "|2020-01-01|   101|      3|    90|2020-01-01|   101|      3|    90|\n",
            "|2020-01-01|   101|      3|    90|2020-01-02|   101|      4|    95|\n",
            "|2020-01-02|   101|      4|    95|2020-01-01|   100|      1|    75|\n",
            "|2020-01-02|   101|      4|    95|2020-01-02|   100|      2|    78|\n",
            "|2020-01-02|   101|      4|    95|2020-01-01|   101|      3|    90|\n",
            "|2020-01-02|   101|      4|    95|2020-01-02|   101|      4|    95|\n",
            "+----------+------+-------+------+----------+------+-------+------+\n",
            "\n"
          ]
        },
        {
          "name": "stderr",
          "output_type": "stream",
          "text": [
            "                                                                                \r"
          ]
        }
      ],
      "source": [
        "# self JOIN\n",
        "df_self_join = spark.sql(\"\"\"SELECT * FROM Vital v1\n",
        "JOIN Vital v2\"\"\")\n",
        "df_self_join.show()"
      ]
    }
  ],
  "metadata": {
    "colab": {
      "provenance": []
    },
    "kernelspec": {
      "display_name": "Python 3",
      "name": "python3"
    },
    "language_info": {
      "codemirror_mode": {
        "name": "ipython",
        "version": 3
      },
      "file_extension": ".py",
      "mimetype": "text/x-python",
      "name": "python",
      "nbconvert_exporter": "python",
      "pygments_lexer": "ipython3",
      "version": "3.10.12"
    }
  },
  "nbformat": 4,
  "nbformat_minor": 0
}
